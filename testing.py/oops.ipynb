{
 "cells": [
  {
   "cell_type": "code",
   "execution_count": 3,
   "id": "2b089878",
   "metadata": {},
   "outputs": [
    {
     "name": "stdout",
     "output_type": "stream",
     "text": [
      "waZhat sounds\n",
      "bhow bhow!!\n",
      "meow meow!!\n"
     ]
    }
   ],
   "source": [
    "class animal():\n",
    "    def sound(self):\n",
    "        print(\"waZhat sounds\")\n",
    "\n",
    "class dog(animal):\n",
    "    def sound(self):\n",
    "        print(\"bhow bhow!!\")\n",
    "\n",
    "class cat(animal):\n",
    "    def sound(self):\n",
    "        print(\"meow meow!!\")\n",
    "\n",
    "\n",
    "a = animal()\n",
    "b = dog()\n",
    "c = cat()\n",
    "\n",
    "a.sound()\n",
    "b.sound()\n",
    "c.sound()\n",
    "\n"
   ]
  },
  {
   "cell_type": "code",
   "execution_count": 4,
   "id": "41997d8b",
   "metadata": {},
   "outputs": [
    {
     "name": "stdout",
     "output_type": "stream",
     "text": [
      "me in sabka baccha hu\n",
      "me hu tera papa\n",
      "me sabka papa\n"
     ]
    }
   ],
   "source": [
    "class grandparent():\n",
    "    def show_role(self):\n",
    "        print(\"me sabka papa\")\n",
    "\n",
    "\n",
    "class parent(grandparent):\n",
    "    def show_role(self):\n",
    "        print(\"me hu tera papa\")\n",
    "\n",
    "class child(parent):\n",
    "    def show_role(self):\n",
    "        print(\"me in sabka baccha hu\")\n",
    "\n",
    "\n",
    "\n",
    "c = child()\n",
    "\n",
    "c.show_role()\n",
    "\n",
    "super(child,c).show_role()\n",
    "\n",
    "super(parent , c).show_role()"
   ]
  },
  {
   "cell_type": "code",
   "execution_count": 15,
   "id": "5675be7c",
   "metadata": {},
   "outputs": [
    {
     "name": "stdout",
     "output_type": "stream",
     "text": [
      "animal can breathe\n",
      "feed its young \n",
      "can fly\n",
      "bats have all qulaities\n"
     ]
    }
   ],
   "source": [
    "#hybrid of multilevel and multiplelevel\n",
    "\n",
    "class animal:\n",
    "    def breathe (self):\n",
    "        print(\"animal can breathe\")\n",
    "\n",
    "class mammel(animal):\n",
    "    def feed_young(self):\n",
    "        print(\"feed its young \")\n",
    "\n",
    "class flyer:\n",
    "    def fly(self):\n",
    "        print(\"can fly\")\n",
    "\n",
    "class bat(mammel,flyer):\n",
    "    def sonar(self):\n",
    "        print(\"bats have all qulaities\")\n",
    "\n",
    "if __name__ == \"__main__\":\n",
    "    b = bat()\n",
    "    b.breathe()\n",
    "    b.feed_young()\n",
    "    b.fly()\n",
    "    b.sonar()\n"
   ]
  },
  {
   "cell_type": "code",
   "execution_count": null,
   "id": "2201aa36",
   "metadata": {},
   "outputs": [
    {
     "name": "stdout",
     "output_type": "stream",
     "text": [
      "now iam called\n",
      "welcome iam c\n",
      "hello sir. \n"
     ]
    }
   ],
   "source": [
    "class a:\n",
    "    def greet(self):\n",
    "        print(\"iam the main class\")\n",
    "\n",
    "class b(a):\n",
    "    def __init__(self):\n",
    "        print(\"iam the b inherited by a. \")\n",
    "\n",
    "    def greet(self):\n",
    "        super().greet()\n",
    "        print(\"hello sir. \")\n",
    "\n",
    "class c(a):\n",
    "    def greet(self):\n",
    "        super.show()\n",
    "        print(\"iam c inherited by a\")\n",
    "\n",
    "    def greet(self):\n",
    "        print(\"welcome iam c\")\n",
    "\n",
    "class d(b,c):\n",
    "    def __init__(self):\n",
    "        print(\"now iam called\")\n",
    "\n",
    "\n",
    "\n",
    "bb = d()\n",
    "bb.greet()\n",
    "\n",
    "\n",
    "\n",
    "# print(\"mro\",c.mro())\n",
    "\n",
    "\n",
    "\n"
   ]
  },
  {
   "cell_type": "code",
   "execution_count": 1,
   "id": "cae53ef0",
   "metadata": {},
   "outputs": [
    {
     "name": "stdout",
     "output_type": "stream",
     "text": [
      "this is a\n",
      "this b\n",
      "this is c\n"
     ]
    },
    {
     "ename": "TypeError",
     "evalue": "'g' object is not callable",
     "output_type": "error",
     "traceback": [
      "\u001b[31m---------------------------------------------------------------------------\u001b[39m",
      "\u001b[31mTypeError\u001b[39m                                 Traceback (most recent call last)",
      "\u001b[36mCell\u001b[39m\u001b[36m \u001b[39m\u001b[32mIn[1]\u001b[39m\u001b[32m, line 32\u001b[39m\n\u001b[32m     28\u001b[39m         \u001b[38;5;28mprint\u001b[39m(\u001b[33m\"\u001b[39m\u001b[33mthis is multiple inheritance\u001b[39m\u001b[33m\"\u001b[39m)\n\u001b[32m     31\u001b[39m d = g()\n\u001b[32m---> \u001b[39m\u001b[32m32\u001b[39m \u001b[43md\u001b[49m\u001b[43m.\u001b[49m\u001b[43mshow\u001b[49m\u001b[43m(\u001b[49m\u001b[43m)\u001b[49m\n",
      "\u001b[36mCell\u001b[39m\u001b[36m \u001b[39m\u001b[32mIn[1]\u001b[39m\u001b[32m, line 25\u001b[39m, in \u001b[36mg.show\u001b[39m\u001b[34m(self)\u001b[39m\n\u001b[32m     23\u001b[39m b().show()\n\u001b[32m     24\u001b[39m c().show()\n\u001b[32m---> \u001b[39m\u001b[32m25\u001b[39m \u001b[43md\u001b[49m\u001b[43m(\u001b[49m\u001b[43m)\u001b[49m.show()\n\u001b[32m     26\u001b[39m e().show()\n\u001b[32m     27\u001b[39m f().show()\n",
      "\u001b[31mTypeError\u001b[39m: 'g' object is not callable"
     ]
    }
   ],
   "source": [
    "class a:\n",
    "    def show(self):\n",
    "        print(\"this is a\")\n",
    "class b(a):\n",
    "    def show(self):\n",
    "        print(\"this b\")\n",
    "class c(a):\n",
    "    def show(self):\n",
    "        print(\"this is c\")\n",
    "class d(a):\n",
    "    def show(self):\n",
    "        print(\"this is d\")\n",
    "class e(a):\n",
    "    def show(self):\n",
    "        print(\"this is e\")\n",
    "class f(a):\n",
    "    def show(self):\n",
    "        print(\"this f\")\n",
    "    \n",
    "class g(b,c,d,e,f):\n",
    "    def show(self):\n",
    "        a().show()\n",
    "        b().show()\n",
    "        c().show()\n",
    "        d().show()\n",
    "        e().show()\n",
    "        f().show()\n",
    "        print(\"this is multiple inheritance\")\n",
    "\n",
    "\n",
    "d = g()\n",
    "d.show()"
   ]
  },
  {
   "cell_type": "code",
   "execution_count": 2,
   "id": "f8170a7c",
   "metadata": {},
   "outputs": [
    {
     "name": "stdout",
     "output_type": "stream",
     "text": [
      "this is a\n",
      "this b\n",
      "this is c\n"
     ]
    },
    {
     "ename": "TypeError",
     "evalue": "'g' object is not callable",
     "output_type": "error",
     "traceback": [
      "\u001b[31m---------------------------------------------------------------------------\u001b[39m",
      "\u001b[31mTypeError\u001b[39m                                 Traceback (most recent call last)",
      "\u001b[36mCell\u001b[39m\u001b[36m \u001b[39m\u001b[32mIn[2]\u001b[39m\u001b[32m, line 36\u001b[39m\n\u001b[32m     33\u001b[39m         \u001b[38;5;28mprint\u001b[39m(\u001b[33m\"\u001b[39m\u001b[33mthis is multiple inheritance\u001b[39m\u001b[33m\"\u001b[39m)\n\u001b[32m     35\u001b[39m d = g()\n\u001b[32m---> \u001b[39m\u001b[32m36\u001b[39m \u001b[43md\u001b[49m\u001b[43m.\u001b[49m\u001b[43mshow\u001b[49m\u001b[43m(\u001b[49m\u001b[43m)\u001b[49m\n",
      "\u001b[36mCell\u001b[39m\u001b[36m \u001b[39m\u001b[32mIn[2]\u001b[39m\u001b[32m, line 30\u001b[39m, in \u001b[36mg.show\u001b[39m\u001b[34m(self)\u001b[39m\n\u001b[32m     28\u001b[39m b().show()\n\u001b[32m     29\u001b[39m c().show()\n\u001b[32m---> \u001b[39m\u001b[32m30\u001b[39m \u001b[43md\u001b[49m\u001b[43m(\u001b[49m\u001b[43m)\u001b[49m.show()\n\u001b[32m     31\u001b[39m e().show()\n\u001b[32m     32\u001b[39m f().show()\n",
      "\u001b[31mTypeError\u001b[39m: 'g' object is not callable"
     ]
    }
   ],
   "source": [
    "class a:\n",
    "    def show(self):\n",
    "        print(\"this is a\")\n",
    "\n",
    "class b(a):\n",
    "    def show(self):\n",
    "        print(\"this b\")\n",
    "\n",
    "class c(a):\n",
    "    def show(self):\n",
    "        print(\"this is c\")\n",
    "\n",
    "class d(a):\n",
    "    def show(self):\n",
    "        print(\"this is d\")\n",
    "\n",
    "class e(a):\n",
    "    def show(self):\n",
    "        print(\"this is e\")\n",
    "\n",
    "class f(a):\n",
    "    def show(self):\n",
    "        print(\"this f\")\n",
    "\n",
    "class g(b, c, d, e, f):\n",
    "    def show(self):\n",
    "        a().show()\n",
    "        b().show()\n",
    "        c().show()\n",
    "        d().show()\n",
    "        e().show()\n",
    "        f().show()\n",
    "        print(\"this is multiple inheritance\")\n",
    "\n",
    "d = g()\n",
    "d.show()\n"
   ]
  },
  {
   "cell_type": "code",
   "execution_count": 3,
   "id": "83ca126d",
   "metadata": {},
   "outputs": [
    {
     "name": "stdout",
     "output_type": "stream",
     "text": [
      "Here is the rectangle area: 20\n",
      "Here is the square area: 9\n"
     ]
    }
   ],
   "source": [
    "class Calc:\n",
    "    def area(self, a, l, b):\n",
    "        self.a = a\n",
    "        self.b = b\n",
    "        self.c = l * b\n",
    "        print(f\"Here is the rectangle area: {self.c}\")\n",
    "\n",
    "        def area_square():\n",
    "            self.d = self.a * self.a\n",
    "            print(f\"Here is the square area: {self.d}\")\n",
    "\n",
    "        area_square()  # Call the nested function\n",
    "\n",
    "# Create object\n",
    "m = Calc()\n",
    "m.area(3, 4, 5)\n"
   ]
  },
  {
   "cell_type": "code",
   "execution_count": null,
   "id": "7770d841",
   "metadata": {},
   "outputs": [
    {
     "name": "stdout",
     "output_type": "stream",
     "text": [
      "here is the rectangle of 16\n"
     ]
    },
    {
     "ename": "TypeError",
     "evalue": "clac.area.<locals>.area_aquare() missing 1 required positional argument: 'self'",
     "output_type": "error",
     "traceback": [
      "\u001b[31m---------------------------------------------------------------------------\u001b[39m",
      "\u001b[31mTypeError\u001b[39m                                 Traceback (most recent call last)",
      "\u001b[36mCell\u001b[39m\u001b[36m \u001b[39m\u001b[32mIn[7]\u001b[39m\u001b[32m, line 15\u001b[39m\n\u001b[32m     12\u001b[39m         area_aquare()\n\u001b[32m     14\u001b[39m m2 = clac()\n\u001b[32m---> \u001b[39m\u001b[32m15\u001b[39m \u001b[43mm2\u001b[49m\u001b[43m.\u001b[49m\u001b[43marea\u001b[49m\u001b[43m(\u001b[49m\u001b[32;43m3\u001b[39;49m\u001b[43m,\u001b[49m\u001b[43m \u001b[49m\u001b[32;43m4\u001b[39;49m\u001b[43m,\u001b[49m\u001b[43m \u001b[49m\u001b[32;43m4\u001b[39;49m\u001b[43m)\u001b[49m\n",
      "\u001b[36mCell\u001b[39m\u001b[36m \u001b[39m\u001b[32mIn[7]\u001b[39m\u001b[32m, line 12\u001b[39m, in \u001b[36mclac.area\u001b[39m\u001b[34m(self, a, l, b)\u001b[39m\n\u001b[32m      9\u001b[39m     \u001b[38;5;28mself\u001b[39m.d = \u001b[38;5;28mself\u001b[39m.a * \u001b[38;5;28mself\u001b[39m.a\n\u001b[32m     10\u001b[39m     \u001b[38;5;28mprint\u001b[39m(\u001b[33mf\u001b[39m\u001b[33m\"\u001b[39m\u001b[33mhere is the square of \u001b[39m\u001b[38;5;132;01m{\u001b[39;00m\u001b[38;5;28mself\u001b[39m.d\u001b[38;5;132;01m}\u001b[39;00m\u001b[33m\"\u001b[39m)\n\u001b[32m---> \u001b[39m\u001b[32m12\u001b[39m \u001b[43marea_aquare\u001b[49m\u001b[43m(\u001b[49m\u001b[43m)\u001b[49m\n",
      "\u001b[31mTypeError\u001b[39m: clac.area.<locals>.area_aquare() missing 1 required positional argument: 'self'"
     ]
    }
   ],
   "source": [
    "class calc:\n",
    "    def area(self,a,l,b):\n",
    "        self.a = a\n",
    "        self.b = b\n",
    "        self.c = l*b\n",
    "        print(f\"here is the rectangle of {self.c}\")\n",
    "\n",
    "        def area_square(self):\n",
    "            self.d = self.a * self.a\n",
    "            print(f\"here is the square of {self.d}\")\n",
    "\n",
    "        area_square()\n",
    "\n",
    "m2 = clac()\n",
    "m2.area(3, 4, 4)"
   ]
  }
 ],
 "metadata": {
  "kernelspec": {
   "display_name": "Python 3",
   "language": "python",
   "name": "python3"
  },
  "language_info": {
   "codemirror_mode": {
    "name": "ipython",
    "version": 3
   },
   "file_extension": ".py",
   "mimetype": "text/x-python",
   "name": "python",
   "nbconvert_exporter": "python",
   "pygments_lexer": "ipython3",
   "version": "3.12.1"
  }
 },
 "nbformat": 4,
 "nbformat_minor": 5
}
