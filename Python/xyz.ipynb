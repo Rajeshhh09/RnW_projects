{
 "cells": [
  {
   "cell_type": "code",
   "execution_count": null,
   "id": "69814b3d",
   "metadata": {},
   "outputs": [],
   "source": [
    "first_name = str(input(\"enter first your name \"))\n",
    "last_name = str(input(\"enter your last name\"))\n",
    "\n",
    "print(f\"hello !! [{last_name}] [{first_name}] \")\n"
   ]
  },
  {
   "cell_type": "code",
   "execution_count": null,
   "id": "1ec7ccc1",
   "metadata": {},
   "outputs": [],
   "source": [
    "\"\"\"\n",
    "the price of {item} is {prive} dolars\"\"\"\n",
    "\n",
    "item = \"iphone\"\n",
    "price = 5.50\n",
    "\n",
    "print(f\"the price of {item} is {price}\" .replace(\"{item}\",item).replace(\"{price}\",str(price)))\n",
    "print(f\"{price}\")"
   ]
  },
  {
   "cell_type": "code",
   "execution_count": null,
   "id": "68b0544d",
   "metadata": {},
   "outputs": [],
   "source": [
    "text = input(\"enter a number\")\n",
    "\n",
    "reversed_text = text[::-1]\n",
    "\n",
    "if  reversed_text == text:\n",
    "    print(\"it is plaindrome\")\n",
    "else:\n",
    "    print(\"it is not palindrome\")"
   ]
  },
  {
   "cell_type": "code",
   "execution_count": null,
   "id": "964f8c99",
   "metadata": {},
   "outputs": [],
   "source": [
    "user_input = str(input(\"enter you words \"))\n",
    "print(f\"{user_input.upper()}\")\n",
    "print(f\"{user_input.lower()}\")\n",
    "print(f\"{user_input.title()}\")\n",
    "\n"
   ]
  },
  {
   "cell_type": "code",
   "execution_count": null,
   "id": "e2cc2987",
   "metadata": {},
   "outputs": [],
   "source": [
    "l1 = [1,2,3,4,5,6,7,8,9,10]\n",
    "l1.append(10)\n",
    "l1\n"
   ]
  },
  {
   "cell_type": "code",
   "execution_count": null,
   "id": "78695d40",
   "metadata": {},
   "outputs": [],
   "source": [
    "l1 = list(input(\"enter your list\"))\n",
    "l1.sort()\n",
    "print(l1)\n",
    "l1.sort(reverse = True)\n",
    "print(l1)"
   ]
  },
  {
   "cell_type": "code",
   "execution_count": null,
   "id": "e7725028",
   "metadata": {},
   "outputs": [],
   "source": [
    "#tuple\n",
    "#doubt \n",
    "\n",
    "t1 = (1,2,2,3,3,4,4,5,6,7)\n",
    "\n",
    "print(tuple(set(t1)))\n"
   ]
  },
  {
   "cell_type": "code",
   "execution_count": null,
   "id": "f1f1a692",
   "metadata": {},
   "outputs": [],
   "source": [
    "#08\n",
    "\n",
    "l1 = [1,2,3,4,5,6]\n",
    "\n",
    "l1.insert(2,4)\n",
    "l1\n",
    "\n",
    "# l2 = {\"rajesh\":1,\"ram\":2}\n",
    "# l2.update({1:\"ra\"})\n",
    "\n",
    "# l2\n"
   ]
  },
  {
   "cell_type": "code",
   "execution_count": null,
   "id": "0297b7a2",
   "metadata": {},
   "outputs": [],
   "source": [
    "ram =[1,2,3,[1,2,[2,3]],4]\n",
    "\n",
    "#doubt in replace\n",
    "print(ram)\n",
    "\n",
    "print(ram[3])\n"
   ]
  },
  {
   "cell_type": "code",
   "execution_count": null,
   "id": "4deccc65",
   "metadata": {},
   "outputs": [],
   "source": [
    "#10\n",
    "\n",
    "l1 = [1,2,3,4,5,6]\n",
    "l2 = [7,8,9,10,11]\n",
    "\n",
    "l1.extend(l2)\n",
    "l1\n",
    "\n",
    "l2"
   ]
  },
  {
   "cell_type": "code",
   "execution_count": null,
   "id": "ee4436fc",
   "metadata": {},
   "outputs": [],
   "source": [
    "l1 = [1,2,3,4,5,[1,2,3],6,7,8]\n",
    "\n",
    "final_data = l1[5].insert(1,5)\n",
    "\n",
    "print(final_data)\n"
   ]
  },
  {
   "cell_type": "code",
   "execution_count": 47,
   "id": "f7642175",
   "metadata": {},
   "outputs": [
    {
     "name": "stdout",
     "output_type": "stream",
     "text": [
      "*******\n",
      "******\n",
      "*****\n",
      "****\n",
      "***\n",
      "**\n",
      "*\n"
     ]
    }
   ],
   "source": [
    "# rows = int(input(\"enter rows: \"))\n",
    "for i in range(7,0,-1):\n",
    "    print(\"*\"*i)\n"
   ]
  },
  {
   "cell_type": "code",
   "execution_count": 87,
   "id": "b8e9c8a4",
   "metadata": {},
   "outputs": [
    {
     "name": "stdout",
     "output_type": "stream",
     "text": [
      " *************\n",
      "  ***********\n",
      "   *********\n",
      "    *******\n",
      "     *****\n",
      "      ***\n",
      "       *\n"
     ]
    }
   ],
   "source": [
    "for i in range(7,0,-1):\n",
    "    spaces = 7 - i\n",
    "    rows = 2*i-1\n",
    "    print(\" \"*spaces,\"*\"*rows) "
   ]
  },
  {
   "cell_type": "code",
   "execution_count": 27,
   "id": "39fde1c7",
   "metadata": {},
   "outputs": [],
   "source": [
    "for i in range (7,1,+1):\n",
    "    if(i>7):\n",
    "        print(\"5\")\n",
    "    else:\n",
    "      pass"
   ]
  },
  {
   "cell_type": "code",
   "execution_count": 100,
   "id": "6d155448",
   "metadata": {},
   "outputs": [
    {
     "name": "stdout",
     "output_type": "stream",
     "text": [
      "     *\n",
      "    **\n",
      "   ***\n",
      "  ****\n",
      " *****\n"
     ]
    }
   ],
   "source": [
    "for i in range(1,5 +1):\n",
    "    print(\" \"*(5-i),\"*\"*i)"
   ]
  },
  {
   "cell_type": "code",
   "execution_count": 46,
   "id": "f538418c",
   "metadata": {},
   "outputs": [
    {
     "name": "stdout",
     "output_type": "stream",
     "text": [
      "*\n",
      "**\n",
      "***\n",
      "****\n"
     ]
    }
   ],
   "source": [
    "for i in range(1,5,+1):\n",
    "    print(\"*\"*i)"
   ]
  },
  {
   "cell_type": "code",
   "execution_count": null,
   "id": "e7cb794d",
   "metadata": {},
   "outputs": [
    {
     "name": "stdout",
     "output_type": "stream",
     "text": [
      "welcome to the pattern generator and Number Analyzer!\n",
      "1. Generate a Pattern\n",
      "2. Analyze a Range of Numbers\n",
      "3. exit\n",
      "1. Right-angle Triangle:\n",
      "2. pyramid\n",
      "3. Left-angled Triangle\n",
      "*\n",
      "**\n",
      "***\n",
      "****\n",
      "*****\n",
      "1. Generate a Pattern\n",
      "2. Analyze a Range of Numbers\n",
      "3. exit\n",
      "1. Right-angle Triangle:\n",
      "2. pyramid\n",
      "3. Left-angled Triangle\n",
      "    *\n",
      "   ***\n",
      "  *****\n",
      " *******\n",
      "*********\n",
      "1. Generate a Pattern\n",
      "2. Analyze a Range of Numbers\n",
      "3. exit\n",
      "invalid number\n",
      "1. Generate a Pattern\n",
      "2. Analyze a Range of Numbers\n",
      "3. exit\n",
      "invalid number\n",
      "1. Generate a Pattern\n",
      "2. Analyze a Range of Numbers\n",
      "3. exit\n",
      "1. Right-angle Triangle:\n",
      "2. pyramid\n",
      "3. Left-angled Triangle\n",
      "invalid number\n",
      "1. Generate a Pattern\n",
      "2. Analyze a Range of Numbers\n",
      "3. exit\n",
      "invalid number\n",
      "1. Generate a Pattern\n",
      "2. Analyze a Range of Numbers\n",
      "3. exit\n",
      "invalid number\n",
      "1. Generate a Pattern\n",
      "2. Analyze a Range of Numbers\n",
      "3. exit\n",
      "invalid number\n",
      "1. Generate a Pattern\n",
      "2. Analyze a Range of Numbers\n",
      "3. exit\n",
      "invalid number\n",
      "1. Generate a Pattern\n",
      "2. Analyze a Range of Numbers\n",
      "3. exit\n",
      "invalid number\n",
      "1. Generate a Pattern\n",
      "2. Analyze a Range of Numbers\n",
      "3. exit\n",
      "invalid number\n",
      "1. Generate a Pattern\n",
      "2. Analyze a Range of Numbers\n",
      "3. exit\n"
     ]
    }
   ],
   "source": [
    "print(\"welcome to the pattern generator and Number Analyzer!\")\n",
    "\n",
    "while True:\n",
    "    \n",
    "    print(\"1. Generate a Pattern\")\n",
    "    print(\"2. Analyze a Range of Numbers\")\n",
    "    print(\"3. exit\")\n",
    "\n",
    "    choice = input(\"Enter your choice\")\n",
    "\n",
    "    match choice:\n",
    "             \n",
    "        case \"1\":\n",
    "            \n",
    "            print(\"1. Right-angle Triangle:\")\n",
    "            print(\"2. pyramid\")\n",
    "            print(\"3. Left-angled Triangle\")\n",
    "            \n",
    "            pattern_choice = input(\"select patteern type: \")\n",
    "            \n",
    "            rows = int(input(\"enter the number of rows fpr pattern: \"))\n",
    "\n",
    "            match pattern_choice:\n",
    "                \n",
    "                case \"1\":\n",
    "                    \n",
    "                    for i in range(1,rows +1):\n",
    "                         print(\"*\"*i)\n",
    "\n",
    "                case \"2\":\n",
    "                    \n",
    "                    for i in range(1,rows +1):\n",
    "                         spaces = rows - i\n",
    "                         star = 2*i-1\n",
    "                         print(\" \"* spaces + \"*\" * star)\n",
    "                \n",
    "                case \"3\":\n",
    "                    \n",
    "                    for i in range(1,rows +1):\n",
    "                         print(\" \"*(rows-i),\"*\" * rows)\n",
    "                         \n",
    "                case __:\n",
    "                         print(\"invalid number\")\n",
    "\n",
    "        # case \"2\":\n",
    "        #    start_range = int(input(\"enter the start of the range: \"))\n",
    "        #    end_range = int(input(\"enter the end of the range: \"))\n",
    "        #    if(start_range%2==0):\n",
    "        #        print(f\"number {start_range} is even\")\n",
    "\n",
    "        #    else:\n",
    "        #        print(f\"number {end_range} is odd\")\n",
    "        # case \"3\":\n",
    "        #     break\n",
    "        case __:\n",
    "            print(\"invalid number\")"
   ]
  },
  {
   "cell_type": "code",
   "execution_count": null,
   "id": "eefc1759",
   "metadata": {},
   "outputs": [
    {
     "data": {
      "text/plain": [
       "416"
      ]
     },
     "execution_count": 45,
     "metadata": {},
     "output_type": "execute_result"
    }
   ],
   "source": [
    "l = [11,22,11,43,77,99,22,123,4,1,3]\n",
    "type(l)\n",
    "(l)\n",
    "\n"
   ]
  },
  {
   "cell_type": "code",
   "execution_count": 56,
   "id": "f25cf8de",
   "metadata": {},
   "outputs": [
    {
     "name": "stdout",
     "output_type": "stream",
     "text": [
      "24\n"
     ]
    }
   ],
   "source": [
    "def factorial(n):\n",
    "    result = 1\n",
    "    for i in range(1,n+1):\n",
    "        result *= i\n",
    "    return result\n",
    "\n",
    "print(factorial(4))"
   ]
  },
  {
   "cell_type": "code",
   "execution_count": 7,
   "id": "c84d80a1",
   "metadata": {},
   "outputs": [
    {
     "name": "stdout",
     "output_type": "stream",
     "text": [
      "[1, 8, 27, 64, 125, 216, 343, 512]\n"
     ]
    }
   ],
   "source": [
    "def square(n):\n",
    "    return n*n*n\n",
    "\n",
    "number = [1,2,3,4,5,6,7,8]\n",
    "squares = [square(x) for x in number]\n",
    "print(squares)"
   ]
  },
  {
   "cell_type": "code",
   "execution_count": 18,
   "id": "470006c7",
   "metadata": {},
   "outputs": [
    {
     "name": "stdout",
     "output_type": "stream",
     "text": [
      "     *\n",
      "    **\n",
      "   ***\n",
      "  ****\n",
      " *****\n"
     ]
    }
   ],
   "source": [
    "for i in range(1,5 +1):\n",
    "    print(\" \"*(5-i),\"*\" *+i)\n",
    "                         "
   ]
  },
  {
   "cell_type": "code",
   "execution_count": null,
   "id": "4898c533",
   "metadata": {},
   "outputs": [
    {
     "name": "stdout",
     "output_type": "stream",
     "text": [
      "{'r': 1, 'a': 2, 'j': 1, 'e': 1, 's': 1, 'h': 1, ' ': 2, 'm': 1, 'l': 1, 'i': 1}\n"
     ]
    }
   ],
   "source": [
    "def frequency(text):\n",
    "    \n",
    "    g = {}\n",
    "    for i in text:\n",
    "        if i in g:\n",
    "            g[i] += 1\n",
    "        else:\n",
    "            g[i] = 1\n",
    "    return g\n",
    "\n",
    "ni = str(input(\"enter string: \"))\n",
    "result = frequency(ni)\n",
    "print(result)"
   ]
  },
  {
   "cell_type": "code",
   "execution_count": 15,
   "id": "c62bd07a",
   "metadata": {},
   "outputs": [
    {
     "name": "stdout",
     "output_type": "stream",
     "text": [
      "130\n"
     ]
    }
   ],
   "source": [
    "def a(*args):\n",
    "    mal = 1\n",
    "    for i in args:\n",
    "        mal += i\n",
    "\n",
    "    return mal\n",
    "\n",
    "mal = a(1,2,3,3,4,3,3,3,2,22,33,44,3,2,1)\n",
    "\n",
    "print(mal)\n"
   ]
  },
  {
   "cell_type": "code",
   "execution_count": 17,
   "id": "02bdae37",
   "metadata": {},
   "outputs": [
    {
     "name": "stdout",
     "output_type": "stream",
     "text": [
      "[('ram', 1), ('shyam', 2)]\n"
     ]
    }
   ],
   "source": [
    "def a(**kwargs):\n",
    "    b = []\n",
    "    for i in kwargs.items():\n",
    "        b.append(i)\n",
    "\n",
    "    return b\n",
    "\n",
    "c = a(ram = 1 , shyam =2)\n",
    "print(c)"
   ]
  },
  {
   "cell_type": "code",
   "execution_count": 28,
   "id": "e93973e5",
   "metadata": {},
   "outputs": [
    {
     "name": "stdout",
     "output_type": "stream",
     "text": [
      "[1, 2, 3, 4, 5, 6, 7]\n"
     ]
    }
   ],
   "source": [
    "def a(*args):\n",
    "    number = list(args)\n",
    "\n",
    "   \n",
    "    print(number)\n",
    "\n",
    "a(1,2,3,4,5,6,7)\n"
   ]
  },
  {
   "cell_type": "code",
   "execution_count": 33,
   "id": "b71e8935",
   "metadata": {},
   "outputs": [
    {
     "name": "stdout",
     "output_type": "stream",
     "text": [
      "name = rajeh \n",
      "roll = 21 \n",
      "city = surat \n"
     ]
    }
   ],
   "source": [
    "def a(**kwargs):\n",
    "    for key,value in kwargs.items():\n",
    "        print(f\"{key} = {value} \")\n",
    "\n",
    "a(name=\"rajeh\",roll=21,city=\"surat\")"
   ]
  },
  {
   "cell_type": "code",
   "execution_count": 36,
   "id": "f1025308",
   "metadata": {},
   "outputs": [
    {
     "name": "stdout",
     "output_type": "stream",
     "text": [
      "args (1, 2, 3, 4, 5)\n",
      "kwargs {'name': 'rajeh', 'roll': 21, 'city': 'surat'}\n",
      "None\n"
     ]
    }
   ],
   "source": [
    "def a(*args, **kwargs):\n",
    " print(\"args\",args)\n",
    " print(\"kwargs\",kwargs)\n",
    "\n",
    "print(a(1,2,3,4,5, name=\"rajeh\",roll=21,city=\"surat\"))\n",
    "\n"
   ]
  },
  {
   "cell_type": "code",
   "execution_count": 40,
   "id": "12c0a794",
   "metadata": {},
   "outputs": [
    {
     "name": "stdout",
     "output_type": "stream",
     "text": [
      "(1, 2, 3, 4, 5) sum 15\n",
      "name = rajeh\n",
      "roll = 21\n",
      "city = surat\n",
      "None\n"
     ]
    }
   ],
   "source": [
    "def a(*args, **kwargs):\n",
    "    total = sum(args)\n",
    "    print(args,\"sum\",total)\n",
    "    for key,value in kwargs.items():\n",
    "        print(f\"{key} = {value}\")\n",
    "\n",
    "\n",
    "\n",
    "print(a(1,2,3,4,5, name=\"rajeh\",roll=21,city=\"surat\"))"
   ]
  },
  {
   "cell_type": "code",
   "execution_count": 50,
   "id": "2534ed98",
   "metadata": {},
   "outputs": [
    {
     "name": "stdout",
     "output_type": "stream",
     "text": [
      "hobbies ('gym', 'gaming', 'coding', 'reading')\n",
      "bio_data {'name': 'rajesh', 'age': 20, 'education': 'BCA'}\n",
      " name:rajesh\n",
      " age:20\n",
      " education:BCA\n"
     ]
    }
   ],
   "source": [
    "def discribe(*args, **kwargs):\n",
    "    print(\"hobbies\",args)\n",
    "    print(\"bio_data\",kwargs)\n",
    "    for key,value in kwargs.items():\n",
    "        print(f\" {key}:{value}\")\n",
    "    \n",
    "\n",
    "\n",
    "hobbies = [\"gym\",\"gaming\",\"coding\",\"reading\"]\n",
    "bio_data = {\"name\":\"rajesh\",\"age\":20,\"education\":'BCA'}\n",
    "\n",
    "discribe(*hobbies,**bio_data)"
   ]
  },
  {
   "cell_type": "code",
   "execution_count": null,
   "id": "7b01ebb0",
   "metadata": {},
   "outputs": [
    {
     "name": "stdout",
     "output_type": "stream",
     "text": [
      "[1, 8, 27, 64, 125, 216, 343]\n"
     ]
    }
   ],
   "source": [
    "def cube(n):\n",
    "    list1 = []\n",
    "    for i in n:\n",
    "        cube_value = i**3\n",
    "        list1.append(cube_value)\n",
    "    return list1\n",
    "    \n",
    "n = [1,2,3,4,5,6,7]\n",
    "\n",
    "print(cube(n))\n"
   ]
  },
  {
   "cell_type": "code",
   "execution_count": null,
   "id": "a2e0719a",
   "metadata": {},
   "outputs": [],
   "source": [
    "def factorial(n):\n",
    "    if n==1:\n",
    "        return 1\n",
    "    else:\n",
    "        return n*factorial(n-1)"
   ]
  },
  {
   "cell_type": "code",
   "execution_count": 20,
   "id": "c7a31e3a",
   "metadata": {},
   "outputs": [
    {
     "name": "stdout",
     "output_type": "stream",
     "text": [
      "Filtered Data (Values >= 22): [40, 50, 50]\n"
     ]
    }
   ],
   "source": [
    "data = [1,2,40,50,50]\n",
    "value = int(input(\"Enter a threshold value to filter out data above this value: \"))\n",
    "filtered_data = list(filter(lambda x: x >= value,data))\n",
    "print(f\"Filtered Data (Values >= {value}): {filtered_data}\")\n",
    "\n"
   ]
  },
  {
   "cell_type": "code",
   "execution_count": 21,
   "id": "59dedd3c",
   "metadata": {},
   "outputs": [
    {
     "name": "stdout",
     "output_type": "stream",
     "text": [
      "1\n"
     ]
    }
   ],
   "source": [
    "data = [1,2,3,4,5,6,7,8]\n",
    "\n",
    "m = min(data)\n",
    "\n",
    "print(m)"
   ]
  },
  {
   "cell_type": "code",
   "execution_count": 23,
   "id": "ed7ac12e",
   "metadata": {},
   "outputs": [
    {
     "name": "stdout",
     "output_type": "stream",
     "text": [
      "Minimum value: 1\n",
      "Maximum value: 66\n",
      "Sum of all values:  146\n",
      "Average value: 14.6\n"
     ]
    }
   ],
   "source": [
    "data = [1,2,3,4,3,2,4,54,66,7]\n",
    "minn = (min(data))\n",
    "print(f\"Minimum value: {minn}\")\n",
    "maxi = (max(data))\n",
    "print(f\"Maximum value: {maxi}\")\n",
    "\n",
    "total = 0\n",
    "\n",
    "for i in data:\n",
    "     total +=i  \n",
    "\n",
    "print(\"Sum of all values: \",total)   \n",
    "\n",
    "avg = total/len(data)\n",
    "\n",
    "print(f\"Average value: {avg}\") "
   ]
  },
  {
   "cell_type": "code",
   "execution_count": null,
   "id": "7cd0100d",
   "metadata": {},
   "outputs": [],
   "source": [
    "class car:\n",
    "    tyre = None\n",
    "audi = car()\n",
    "\n",
    "ferari = car()"
   ]
  },
  {
   "cell_type": "code",
   "execution_count": 24,
   "id": "2f418e9a",
   "metadata": {},
   "outputs": [
    {
     "name": "stdout",
     "output_type": "stream",
     "text": [
      "pikachu electric 85\n",
      "bubasore water 90\n"
     ]
    }
   ],
   "source": [
    "class pokemon:\n",
    "    name = None\n",
    "    type =  None\n",
    "    health = None\n",
    "\n",
    "pikachu = pokemon()\n",
    "pikachu.name = \"pikachu\"\n",
    "pikachu.type = \"electric\" \n",
    "pikachu.health = 85\n",
    "\n",
    "print(pikachu.name,pikachu.type,pikachu.health)\n",
    "\n",
    "bulbasore = pokemon()\n",
    "bulbasore.name = \"bubasore\"\n",
    "bulbasore.type = \"water\"\n",
    "bulbasore.health = 90\n",
    "\n",
    "print(bulbasore.name,bulbasore.type,bulbasore.health)\n",
    "\n",
    "\n"
   ]
  },
  {
   "cell_type": "code",
   "execution_count": 1,
   "id": "fe54e5fd",
   "metadata": {},
   "outputs": [
    {
     "name": "stdout",
     "output_type": "stream",
     "text": [
      "1 rajesh 21\n",
      "2 rohan 19\n",
      "3 jitu 20\n",
      "3 jitu 20\n",
      "5 jay 21\n"
     ]
    }
   ],
   "source": [
    "class tenth():\n",
    "    sid = None\n",
    "    name = None\n",
    "    age = None\n",
    "\n",
    "student1 = tenth()\n",
    "student1.sid = int(input(\"enter sid number: \"))\n",
    "student1.name = str(input(\"enter your name: \"))\n",
    "student1.age = int(input(\"age: \"))\n",
    "\n",
    "print(student1.sid,student1.name,student1.age)\n",
    "\n",
    "student2 = tenth()\n",
    "student2.sid = int(input(\"enter sid number: \"))\n",
    "student2.name = str(input(\"enter your name: \"))\n",
    "student2.age = int(input(\"age: \"))\n",
    "\n",
    "print(student2.sid,student2.name,student2.age)\n",
    "\n",
    "student3 = tenth()\n",
    "student3.sid = int(input(\"enter sid number: \"))\n",
    "student3.name = str(input(\"enter your name: \"))\n",
    "student3.age = int(input(\"age: \"))\n",
    "print(student3.sid,student3.name,student3.age)\n",
    "\n",
    "student4 = tenth()\n",
    "student4.sid = int(input(\"enter sid number: \"))\n",
    "student4.name = str(input(\"enter your name: \"))\n",
    "student4.age = int(input(\"age: \"))\n",
    "\n",
    "print(student3.sid,student3.name,student3.age)\n",
    "\n",
    "student5 = tenth()\n",
    "student5.sid = int(input(\"enter sid number: \"))\n",
    "student5.name = str(input(\"enter your name: \"))\n",
    "student5.age = int(input(\"age: \"))\n",
    "\n",
    "print(student5.sid,student5.name,student5.age)\n",
    "\n",
    "\n"
   ]
  },
  {
   "cell_type": "code",
   "execution_count": 15,
   "id": "2309213c",
   "metadata": {},
   "outputs": [
    {
     "ename": "AttributeError",
     "evalue": "'student' object has no attribute 'setdata'",
     "output_type": "error",
     "traceback": [
      "\u001b[31m---------------------------------------------------------------------------\u001b[39m",
      "\u001b[31mAttributeError\u001b[39m                            Traceback (most recent call last)",
      "\u001b[36mCell\u001b[39m\u001b[36m \u001b[39m\u001b[32mIn[15]\u001b[39m\u001b[32m, line 18\u001b[39m\n\u001b[32m     14\u001b[39m s1 = student()\n\u001b[32m     16\u001b[39m s2 = student()\n\u001b[32m---> \u001b[39m\u001b[32m18\u001b[39m \u001b[43ms1\u001b[49m\u001b[43m.\u001b[49m\u001b[43msetdata\u001b[49m()\n\u001b[32m     19\u001b[39m s1.getdata()\n\u001b[32m     21\u001b[39m s2.setdata()\n",
      "\u001b[31mAttributeError\u001b[39m: 'student' object has no attribute 'setdata'"
     ]
    }
   ],
   "source": [
    "class student:\n",
    "    sid = None\n",
    "    name = None\n",
    "    age = None\n",
    "\n",
    "def setdata(self):\n",
    "    self.sid = 1\n",
    "    self.name = \"rajesh\"\n",
    "    self.age = 21\n",
    "\n",
    "def getdata(self):\n",
    "    print(self.sid,self.name,self.age)\n",
    "\n",
    "s1 = student()\n",
    "\n",
    "s2 = student()\n",
    "\n",
    "s1.setdata()\n",
    "s1.getdata()\n",
    "\n",
    "s2.setdata()\n",
    "s2.getdata()\n"
   ]
  },
  {
   "cell_type": "code",
   "execution_count": 17,
   "id": "ec0dadb4",
   "metadata": {},
   "outputs": [
    {
     "ename": "NameError",
     "evalue": "name 'Student' is not defined",
     "output_type": "error",
     "traceback": [
      "\u001b[31m---------------------------------------------------------------------------\u001b[39m",
      "\u001b[31mNameError\u001b[39m                                 Traceback (most recent call last)",
      "\u001b[36mCell\u001b[39m\u001b[36m \u001b[39m\u001b[32mIn[17]\u001b[39m\u001b[32m, line 1\u001b[39m\n\u001b[32m----> \u001b[39m\u001b[32m1\u001b[39m \u001b[38;5;28;43;01mclass\u001b[39;49;00m\u001b[38;5;250;43m \u001b[39;49m\u001b[34;43;01mStudent\u001b[39;49;00m\u001b[43m:\u001b[49m\n\u001b[32m      2\u001b[39m \u001b[43m    \u001b[49m\u001b[43msid\u001b[49m\u001b[43m \u001b[49m\u001b[43m=\u001b[49m\u001b[43m \u001b[49m\u001b[38;5;28;43;01mNone\u001b[39;49;00m\n\u001b[32m      3\u001b[39m \u001b[43m    \u001b[49m\u001b[43mname\u001b[49m\u001b[43m \u001b[49m\u001b[43m=\u001b[49m\u001b[43m \u001b[49m\u001b[38;5;28;43;01mNone\u001b[39;49;00m\n",
      "\u001b[36mCell\u001b[39m\u001b[36m \u001b[39m\u001b[32mIn[17]\u001b[39m\u001b[32m, line 14\u001b[39m, in \u001b[36mStudent\u001b[39m\u001b[34m()\u001b[39m\n\u001b[32m     11\u001b[39m \u001b[38;5;28;01mdef\u001b[39;00m\u001b[38;5;250m \u001b[39m\u001b[34mgetdata\u001b[39m(\u001b[38;5;28mself\u001b[39m):\n\u001b[32m     12\u001b[39m     \u001b[38;5;28mprint\u001b[39m(\u001b[38;5;28mself\u001b[39m.sid,\u001b[38;5;28mself\u001b[39m.name,\u001b[38;5;28mself\u001b[39m.age)\n\u001b[32m---> \u001b[39m\u001b[32m14\u001b[39m s1 = \u001b[43mStudent\u001b[49m()\n\u001b[32m     15\u001b[39m s2 = Student()\n\u001b[32m     17\u001b[39m s1.setdata(\u001b[32m20\u001b[39m,\u001b[33m\"\u001b[39m\u001b[33mrajesh\u001b[39m\u001b[33m\"\u001b[39m,\u001b[32m21\u001b[39m)\n",
      "\u001b[31mNameError\u001b[39m: name 'Student' is not defined"
     ]
    }
   ],
   "source": [
    "class student:\n",
    "    sid = None\n",
    "    name = None\n",
    "    age = None\n",
    "\n",
    "    def setdata(self, a, b, c):\n",
    "        self.sid = a\n",
    "        self.name = b\n",
    "        self.age = c\n",
    "\n",
    "    def getdata(self):\n",
    "        print(self.sid,self.name,self.age)\n",
    "\n",
    "    s1 = student()\n",
    "    s2 = student()\n",
    "\n",
    "    s1.setdata(20,\"rajesh\",21)\n",
    "    s2 = setdata()\n",
    "\n",
    "    s2.setdata(21,\"isha\",17)\n",
    "    s2 = getdata()"
   ]
  }
 ],
 "metadata": {
  "kernelspec": {
   "display_name": "rnw",
   "language": "python",
   "name": "python3"
  },
  "language_info": {
   "codemirror_mode": {
    "name": "ipython",
    "version": 3
   },
   "file_extension": ".py",
   "mimetype": "text/x-python",
   "name": "python",
   "nbconvert_exporter": "python",
   "pygments_lexer": "ipython3",
   "version": "3.12.1"
  }
 },
 "nbformat": 4,
 "nbformat_minor": 5
}
