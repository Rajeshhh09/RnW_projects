{
 "cells": [
  {
   "cell_type": "code",
   "execution_count": 3,
   "id": "69814b3d",
   "metadata": {},
   "outputs": [
    {
     "name": "stdout",
     "output_type": "stream",
     "text": [
      "hello !! [abc] [xyz] \n"
     ]
    }
   ],
   "source": [
    "first_name = str(input(\"enter first your name \"))\n",
    "last_name = str(input(\"enter your last name\"))\n",
    "\n",
    "print(f\"hello !! [{last_name}] [{first_name}] \")\n"
   ]
  },
  {
   "cell_type": "code",
   "execution_count": 4,
   "id": "1ec7ccc1",
   "metadata": {},
   "outputs": [
    {
     "name": "stdout",
     "output_type": "stream",
     "text": [
      "the price of iphone is 5.5\n",
      "5.5\n"
     ]
    }
   ],
   "source": [
    "\"\"\"\n",
    "the price of {item} is {prive} dolars\"\"\"\n",
    "\n",
    "item = \"iphone\"\n",
    "price = 5.50\n",
    "\n",
    "print(f\"the price of {item} is {price}\" .replace(\"{item}\",item).replace(\"{price}\",str(price)))\n",
    "print(f\"{price}\")"
   ]
  },
  {
   "cell_type": "code",
   "execution_count": 5,
   "id": "68b0544d",
   "metadata": {},
   "outputs": [
    {
     "name": "stdout",
     "output_type": "stream",
     "text": [
      "it is not palindrome\n"
     ]
    }
   ],
   "source": [
    "text = input(\"enter a number\")\n",
    "\n",
    "reversed_text = text[::-1]\n",
    "\n",
    "if  reversed_text == text:\n",
    "    print(\"it is plaindrome\")\n",
    "else:\n",
    "    print(\"it is not palindrome\")"
   ]
  },
  {
   "cell_type": "code",
   "execution_count": 15,
   "id": "964f8c99",
   "metadata": {},
   "outputs": [
    {
     "name": "stdout",
     "output_type": "stream",
     "text": [
      "FRFR\n",
      "frfr\n",
      "Frfr\n"
     ]
    }
   ],
   "source": [
    "user_input = str(input(\"enter you words \"))\n",
    "print(f\"{user_input.upper()}\")\n",
    "print(f\"{user_input.lower()}\")\n",
    "print(f\"{user_input.title()}\")\n",
    "\n"
   ]
  },
  {
   "cell_type": "code",
   "execution_count": 14,
   "id": "e2cc2987",
   "metadata": {},
   "outputs": [
    {
     "data": {
      "text/plain": [
       "[1, 2, 3, 4, 5, 6, 7, 8, 9, 10, 10]"
      ]
     },
     "execution_count": 14,
     "metadata": {},
     "output_type": "execute_result"
    }
   ],
   "source": [
    "l1 = [1,2,3,4,5,6,7,8,9,10]\n",
    "l1.append(10)\n",
    "l1\n"
   ]
  },
  {
   "cell_type": "code",
   "execution_count": null,
   "id": "78695d40",
   "metadata": {},
   "outputs": [
    {
     "name": "stdout",
     "output_type": "stream",
     "text": [
      "['1', '1', '2', '3', '4', '5', '6', '7', '8', '9']\n",
      "['9', '8', '7', '6', '5', '4', '3', '2', '1', '1']\n"
     ]
    }
   ],
   "source": [
    "l1 = list(input(\"enter your list\"))\n",
    "l1.sort()\n",
    "print(l1)\n",
    "l1.sort(reverse = True)\n",
    "print(l1)"
   ]
  },
  {
   "cell_type": "code",
   "execution_count": 13,
   "id": "e7725028",
   "metadata": {},
   "outputs": [
    {
     "name": "stdout",
     "output_type": "stream",
     "text": [
      "(1, 2, 3, 4, 5, 6, 7)\n"
     ]
    }
   ],
   "source": [
    "#tuple\n",
    "#doubt \n",
    "\n",
    "t1 = (1,2,2,3,3,4,4,5,6,7)\n",
    "\n",
    "print(tuple(set(t1)))\n"
   ]
  },
  {
   "cell_type": "code",
   "execution_count": null,
   "id": "f1f1a692",
   "metadata": {},
   "outputs": [
    {
     "data": {
      "text/plain": [
       "[1, 2, 4, 3, 4, 5, 6]"
      ]
     },
     "execution_count": 61,
     "metadata": {},
     "output_type": "execute_result"
    }
   ],
   "source": [
    "#08\n",
    "\n",
    "l1 = [1,2,3,4,5,6]\n",
    "\n",
    "l1.insert(2,4)\n",
    "l1\n",
    "\n",
    "# l2 = {\"rajesh\":1,\"ram\":2}\n",
    "# l2.update({1:\"ra\"})\n",
    "\n",
    "# l2\n"
   ]
  },
  {
   "cell_type": "code",
   "execution_count": 10,
   "id": "0297b7a2",
   "metadata": {},
   "outputs": [
    {
     "name": "stdout",
     "output_type": "stream",
     "text": [
      "[1, 2, 3, [1, 2, [2, 3]], 4]\n",
      "[1, 2, [2, 3]]\n"
     ]
    }
   ],
   "source": [
    "ram =[1,2,3,[1,2,[2,3]],4]\n",
    "\n",
    "#doubt in replace\n",
    "print(ram)\n",
    "\n",
    "print(ram[3])\n"
   ]
  },
  {
   "cell_type": "code",
   "execution_count": 2,
   "id": "4deccc65",
   "metadata": {},
   "outputs": [
    {
     "data": {
      "text/plain": [
       "[7, 8, 9, 10, 11]"
      ]
     },
     "execution_count": 2,
     "metadata": {},
     "output_type": "execute_result"
    }
   ],
   "source": [
    "#10\n",
    "\n",
    "l1 = [1,2,3,4,5,6]\n",
    "l2 = [7,8,9,10,11]\n",
    "\n",
    "l1.extend(l2)\n",
    "l1\n",
    "\n",
    "l2"
   ]
  },
  {
   "cell_type": "code",
   "execution_count": 1,
   "id": "ee4436fc",
   "metadata": {},
   "outputs": [
    {
     "name": "stdout",
     "output_type": "stream",
     "text": [
      "None\n"
     ]
    }
   ],
   "source": [
    "l1 = [1,2,3,4,5,[1,2,3],6,7,8]\n",
    "\n",
    "final_data = l1[5].insert(1,5)\n",
    "\n",
    "print(final_data)\n"
   ]
  },
  {
   "cell_type": "code",
   "execution_count": null,
   "id": "f7642175",
   "metadata": {},
   "outputs": [],
   "source": []
  }
 ],
 "metadata": {
  "kernelspec": {
   "display_name": "rnw",
   "language": "python",
   "name": "python3"
  },
  "language_info": {
   "codemirror_mode": {
    "name": "ipython",
    "version": 3
   },
   "file_extension": ".py",
   "mimetype": "text/x-python",
   "name": "python",
   "nbconvert_exporter": "python",
   "pygments_lexer": "ipython3",
   "version": "3.12.1"
  }
 },
 "nbformat": 4,
 "nbformat_minor": 5
}
