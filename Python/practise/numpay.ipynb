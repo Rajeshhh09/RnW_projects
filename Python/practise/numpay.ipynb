{
 "cells": [
  {
   "cell_type": "code",
   "execution_count": 1,
   "id": "95dc0c1d",
   "metadata": {},
   "outputs": [
    {
     "name": "stdout",
     "output_type": "stream",
     "text": [
      "[1 2 3]\n"
     ]
    }
   ],
   "source": [
    "import numpy as np\n",
    "\n",
    "a = np.array([1,2,3])\n",
    "print(a)"
   ]
  },
  {
   "cell_type": "code",
   "execution_count": 3,
   "id": "817ba7ba",
   "metadata": {},
   "outputs": [
    {
     "name": "stdout",
     "output_type": "stream",
     "text": [
      "[[1 2 3]\n",
      " [4 5 6]]\n"
     ]
    }
   ],
   "source": [
    "b = np.array([[1,2,3],\n",
    "             [4,5,6]])\n",
    "print(b)"
   ]
  },
  {
   "cell_type": "code",
   "execution_count": 9,
   "id": "6c6bc5bc",
   "metadata": {},
   "outputs": [
    {
     "name": "stdout",
     "output_type": "stream",
     "text": [
      "[[[1 2 3]\n",
      "  [5 6 5]]\n",
      "\n",
      " [[4 5 6]\n",
      "  [6 8 7]]]\n"
     ]
    }
   ],
   "source": [
    "c = np.array([[[1,2,3],[5,6,5]],\n",
    "              [[4,5,6],[6,8,7]]])\n",
    "d = np.array([[[1,2,3],[5,6,7],\n",
    "               [6,7,8],[9,10,11]]])\n",
    "print(c)"
   ]
  },
  {
   "cell_type": "code",
   "execution_count": 11,
   "id": "3f6edbc4",
   "metadata": {},
   "outputs": [
    {
     "data": {
      "text/plain": [
       "2011230792048"
      ]
     },
     "execution_count": 11,
     "metadata": {},
     "output_type": "execute_result"
    }
   ],
   "source": [
    "m = np.array([1,2,3],dtype=int)\n"
   ]
  },
  {
   "cell_type": "code",
   "execution_count": 15,
   "id": "55c40670",
   "metadata": {},
   "outputs": [
    {
     "data": {
      "text/plain": [
       "(array([[ 0,  1,  2],\n",
       "        [ 3,  4,  5],\n",
       "        [ 6,  7,  8],\n",
       "        [ 9, 10, 11],\n",
       "        [12, 13, 14],\n",
       "        [15, 16, 17],\n",
       "        [18, 19, 20],\n",
       "        [21, 22, 23],\n",
       "        [24, 25, 26],\n",
       "        [27, 28, 29],\n",
       "        [30, 31, 32],\n",
       "        [33, 34, 35],\n",
       "        [36, 37, 38],\n",
       "        [39, 40, 41],\n",
       "        [42, 43, 44],\n",
       "        [45, 46, 47],\n",
       "        [48, 49, 50],\n",
       "        [51, 52, 53],\n",
       "        [54, 55, 56],\n",
       "        [57, 58, 59],\n",
       "        [60, 61, 62],\n",
       "        [63, 64, 65],\n",
       "        [66, 67, 68],\n",
       "        [69, 70, 71],\n",
       "        [72, 73, 74],\n",
       "        [75, 76, 77],\n",
       "        [78, 79, 80],\n",
       "        [81, 82, 83],\n",
       "        [84, 85, 86],\n",
       "        [87, 88, 89],\n",
       "        [90, 91, 92],\n",
       "        [93, 94, 95],\n",
       "        [96, 97, 98]]),\n",
       " 8)"
      ]
     },
     "execution_count": 15,
     "metadata": {},
     "output_type": "execute_result"
    }
   ],
   "source": [
    "np.arange(99).reshape(33,3)"
   ]
  },
  {
   "cell_type": "code",
   "execution_count": 39,
   "id": "0b070a72",
   "metadata": {},
   "outputs": [
    {
     "name": "stdout",
     "output_type": "stream",
     "text": [
      "[[[[ 0  1]\n",
      "   [ 2  3]]\n",
      "\n",
      "  [[ 4  5]\n",
      "   [ 6  7]]]\n",
      "\n",
      "\n",
      " [[[ 8  9]\n",
      "   [10 11]]\n",
      "\n",
      "  [[12 13]\n",
      "   [14 15]]]]\n"
     ]
    },
    {
     "data": {
      "text/plain": [
       "array([[[[0, 1],\n",
       "         [2, 3]]]])"
      ]
     },
     "execution_count": 39,
     "metadata": {},
     "output_type": "execute_result"
    }
   ],
   "source": [
    "p = np.arange(16).reshape(2,2,2,2)\n",
    "print(p)\n",
    "p[1][0]\n",
    "p[0] [0] \n",
    "p[0:1:1,0:1:1]"
   ]
  },
  {
   "cell_type": "code",
   "execution_count": 40,
   "id": "bf2e8835",
   "metadata": {},
   "outputs": [
    {
     "data": {
      "text/plain": [
       "array([ 0,  1,  2,  3,  4,  5,  6,  7,  8,  9, 10, 11])"
      ]
     },
     "execution_count": 40,
     "metadata": {},
     "output_type": "execute_result"
    }
   ],
   "source": [
    "np.arange(12)"
   ]
  },
  {
   "cell_type": "code",
   "execution_count": 41,
   "id": "0b76da0f",
   "metadata": {},
   "outputs": [
    {
     "data": {
      "text/plain": [
       "array([[ 0,  1,  2,  3],\n",
       "       [ 4,  5,  6,  7],\n",
       "       [ 8,  9, 10, 11],\n",
       "       [12, 13, 14, 15]])"
      ]
     },
     "execution_count": 41,
     "metadata": {},
     "output_type": "execute_result"
    }
   ],
   "source": [
    "np.arange(16).reshape(4,4)"
   ]
  },
  {
   "cell_type": "code",
   "execution_count": 44,
   "id": "da1fb2d5",
   "metadata": {},
   "outputs": [
    {
     "data": {
      "text/plain": [
       "array([[[[ 0,  1],\n",
       "         [ 2,  3]],\n",
       "\n",
       "        [[ 4,  5],\n",
       "         [ 6,  7]]],\n",
       "\n",
       "\n",
       "       [[[ 8,  9],\n",
       "         [10, 11]],\n",
       "\n",
       "        [[12, 13],\n",
       "         [14, 15]]]])"
      ]
     },
     "execution_count": 44,
     "metadata": {},
     "output_type": "execute_result"
    }
   ],
   "source": [
    "p = np.arange(16).reshape(2,2,2,2)\n",
    "p"
   ]
  },
  {
   "cell_type": "code",
   "execution_count": 53,
   "id": "d08b7346",
   "metadata": {},
   "outputs": [
    {
     "data": {
      "text/plain": [
       "array([[4, 5],\n",
       "       [6, 7]])"
      ]
     },
     "execution_count": 53,
     "metadata": {},
     "output_type": "execute_result"
    }
   ],
   "source": [
    "p[0][1][::]"
   ]
  },
  {
   "cell_type": "code",
   "execution_count": null,
   "id": "d70dc95f",
   "metadata": {},
   "outputs": [],
   "source": [
    "# p[1][0]\n",
    "\n",
    "import numpy as np\n",
    "\n",
    "arr = np.array([\n",
    "    [[10, 11], [12, 13]],     # Page 0\n",
    "    [[20, 21], [22, 23]],     # Page 1\n",
    "    [[30, 31], [32, 33]]      # Page 2\n",
    "])\n",
    "# [[[10, 11],\n",
    "# [12, 13]],\n",
    "\n",
    "#[[20, 21],\n",
    "#[22, 23]],\n",
    "\n",
    "#[[30, 31],\n",
    "# [32, 33]]])\n",
    "\n",
    "# print(arr[2, 1, 0])\n",
    "# print(arr[:,0,:])\n",
    "# print(arr[1])\n",
    "# print(arr[2,1,0])\n",
    "# print(arr[1,1,1])\n",
    "# print(arr[:,0,:])\n",
    "# print(arr[2:,:].flatten())\n",
    "# print(arr[:,:,1].flatten())\n",
    "print(arr[:,0,1])"
   ]
  },
  {
   "cell_type": "code",
   "execution_count": 16,
   "id": "a10099b6",
   "metadata": {},
   "outputs": [
    {
     "data": {
      "text/plain": [
       "np.int64(35)"
      ]
     },
     "execution_count": 16,
     "metadata": {},
     "output_type": "execute_result"
    }
   ],
   "source": [
    "import numpy as np\n",
    "\n",
    "arr = np.array([\n",
    "    [[10, 11], [12, 13]],     # Page 0\n",
    "    [[20, 21], [22, 23]],     # Page 1\n",
    "    [[30, 31], [32, 33]],\n",
    "    [[34, 35], [36, 37]],\n",
    "    [[38, 39], [40, 41]]          # Page 2\n",
    "])\n",
    "# [[[10, 11],\n",
    "#   [12, 13]],\n",
    "\n",
    "#   [[20, 21],\n",
    "#   [22, 23]],\n",
    "\n",
    "#   [[30, 31],\n",
    "#   [32, 33]],\n",
    "\n",
    "#   [[34, 35],\n",
    "#   [36, 37]],\n",
    "\n",
    "#   [[38, 39],\n",
    "#   [40, 41]]])\n",
    "\n",
    "# arr[0:2,1,1]\n",
    "# arr[2].flatten()\n",
    "# arr[:,1,0]\n",
    "# arr[2:,1,1:]\n",
    "arr[3,0,1]\n"
   ]
  },
  {
   "cell_type": "code",
   "execution_count": null,
   "id": "b712ee4a",
   "metadata": {},
   "outputs": [],
   "source": []
  }
 ],
 "metadata": {
  "kernelspec": {
   "display_name": "Python 3",
   "language": "python",
   "name": "python3"
  },
  "language_info": {
   "codemirror_mode": {
    "name": "ipython",
    "version": 3
   },
   "file_extension": ".py",
   "mimetype": "text/x-python",
   "name": "python",
   "nbconvert_exporter": "python",
   "pygments_lexer": "ipython3",
   "version": "3.12.1"
  }
 },
 "nbformat": 4,
 "nbformat_minor": 5
}
