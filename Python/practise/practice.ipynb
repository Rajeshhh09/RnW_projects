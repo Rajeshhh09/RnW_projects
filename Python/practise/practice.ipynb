{
 "cells": [
  {
   "cell_type": "code",
   "execution_count": 4,
   "id": "7cf86108",
   "metadata": {},
   "outputs": [
    {
     "name": "stdout",
     "output_type": "stream",
     "text": [
      "heloo\n",
      "here we go!\n"
     ]
    }
   ],
   "source": [
    "import time\n",
    "print(\"heloo\")\n",
    "\n",
    "time.sleep(2)\n",
    "\n",
    "print(\"here we go!\")"
   ]
  },
  {
   "cell_type": "code",
   "execution_count": null,
   "id": "8e10f238",
   "metadata": {},
   "outputs": [
    {
     "name": "stdout",
     "output_type": "stream",
     "text": [
      "Password length should be at least more than 4!\n",
      "Generated password: ^Vn\n"
     ]
    }
   ],
   "source": [
    "import random\n",
    "import string\n",
    "def generate():\n",
    "    length = int(input(\"Enter password lngth: \"))\n",
    "    if length < 4:\n",
    "        print(\"Password length should be at least more than 4!\")\n",
    "        return\n",
    "    character = string.ascii_letters + string.digits + string.punctuation\n",
    "    password = ''.join(random.choices(character, k=length))\n",
    "    print(\"Generated password:\", password)\n",
    "\n",
    "generate()"
   ]
  },
  {
   "cell_type": "code",
   "execution_count": 110,
   "id": "dce78f53",
   "metadata": {},
   "outputs": [
    {
     "name": "stdout",
     "output_type": "stream",
     "text": [
      "Your OTP (Dont Share With Anyone!): 2880\n"
     ]
    }
   ],
   "source": [
    "def otp():\n",
    "    r = random.randint(1000,9999)\n",
    "    return r\n",
    "\n",
    "print(\"Your OTP (Dont Share With Anyone!):\",otp())\n"
   ]
  },
  {
   "cell_type": "code",
   "execution_count": 88,
   "id": "bca59772",
   "metadata": {},
   "outputs": [
    {
     "name": "stdout",
     "output_type": "stream",
     "text": [
      "e800241b-406d-11f0-bab5-d8f2ca483a9f\n",
      "636995a9-6e38-46d2-9623-9f39d89b65d6\n"
     ]
    }
   ],
   "source": [
    "import uuid\n",
    "import random\n",
    "\n",
    "# def uid():\n",
    "#     uuid.uuid1()\n",
    "\n",
    "# def \n",
    "\n",
    "r = uuid.uuid1()\n",
    "t = uuid.uuid4()\n",
    "print(r)\n",
    "print(t)\n"
   ]
  },
  {
   "cell_type": "code",
   "execution_count": 14,
   "id": "ee260b52",
   "metadata": {},
   "outputs": [
    {
     "name": "stdout",
     "output_type": "stream",
     "text": [
      "['Formatter', 'Template', '_ChainMap', '__all__', '__builtins__', '__cached__', '__doc__', '__file__', '__loader__', '__name__', '__package__', '__spec__', '_re', '_sentinel_dict', '_string', 'ascii_letters', 'ascii_lowercase', 'ascii_uppercase', 'capwords', 'digits', 'hexdigits', 'octdigits', 'printable', 'punctuation', 'whitespace']\n"
     ]
    }
   ],
   "source": [
    "# import math\n",
    "# text = input(\"enter dir module name: \")\n",
    "# if text.lower() == \"Math\":\n",
    "#     print(dir(math))\n",
    "# else:\n",
    "#     print(\"somenthing went wrong!\")\n",
    "try:\n",
    "    module_name = input(\"Enter module name to explore: \")\n",
    "    module = __import__(module_name)\n",
    "    print(dir(module))\n",
    "except ModuleNotFoundError:\n",
    "    print(\"Enter valid module name!!\")\n"
   ]
  }
 ],
 "metadata": {
  "kernelspec": {
   "display_name": "Python 3",
   "language": "python",
   "name": "python3"
  },
  "language_info": {
   "codemirror_mode": {
    "name": "ipython",
    "version": 3
   },
   "file_extension": ".py",
   "mimetype": "text/x-python",
   "name": "python",
   "nbconvert_exporter": "python",
   "pygments_lexer": "ipython3",
   "version": "3.12.1"
  }
 },
 "nbformat": 4,
 "nbformat_minor": 5
}
