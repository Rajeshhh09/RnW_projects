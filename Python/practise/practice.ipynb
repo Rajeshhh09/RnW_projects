{
 "cells": [
  {
   "cell_type": "code",
   "execution_count": 1,
   "id": "7cf86108",
   "metadata": {},
   "outputs": [
    {
     "name": "stdout",
     "output_type": "stream",
     "text": [
      "heloo\n",
      "here we go!\n"
     ]
    }
   ],
   "source": [
    "import time\n",
    "print(\"heloo\")\n",
    "\n",
    "time.sleep(2)\n",
    "\n",
    "print(\"here we go!\")"
   ]
  },
  {
   "cell_type": "code",
   "execution_count": 2,
   "id": "8e10f238",
   "metadata": {},
   "outputs": [
    {
     "name": "stdout",
     "output_type": "stream",
     "text": [
      "Generated password: `JlM^vo2;f/a}OrVu6e9Z*\n"
     ]
    }
   ],
   "source": [
    "import random\n",
    "import string\n",
    "def generate():\n",
    "    length = int(input(\"Enter password lngth: \"))\n",
    "    if length < 4:\n",
    "        print(\"Password length should be at least more than 4!\")\n",
    "        return\n",
    "    character = string.ascii_letters + string.digits + string.punctuation\n",
    "    password = ''.join(random.choices(character, k=length))\n",
    "    print(\"Generated password:\", password)\n",
    "\n",
    "generate()"
   ]
  },
  {
   "cell_type": "code",
   "execution_count": 3,
   "id": "dce78f53",
   "metadata": {},
   "outputs": [
    {
     "name": "stdout",
     "output_type": "stream",
     "text": [
      "Your OTP (Dont Share With Anyone!): 9324\n"
     ]
    }
   ],
   "source": [
    "def otp():\n",
    "    r = random.randint(1000,9999)\n",
    "    return r\n",
    "\n",
    "print(\"Your OTP (Dont Share With Anyone!):\",otp())\n"
   ]
  },
  {
   "cell_type": "code",
   "execution_count": 4,
   "id": "bca59772",
   "metadata": {},
   "outputs": [
    {
     "name": "stdout",
     "output_type": "stream",
     "text": [
      "53070398-46b5-11f0-b310-d8f2ca483a9f\n",
      "772143b5-a264-42a8-bc0f-607ea9296576\n"
     ]
    }
   ],
   "source": [
    "import uuid\n",
    "import random\n",
    "\n",
    "# def uid():\n",
    "#     uuid.uuid1()\n",
    "\n",
    "# def \n",
    "\n",
    "r = uuid.uuid1()\n",
    "t = uuid.uuid4()\n",
    "print(r)\n",
    "print(t)\n"
   ]
  },
  {
   "cell_type": "code",
   "execution_count": null,
   "id": "ee260b52",
   "metadata": {},
   "outputs": [
    {
     "name": "stdout",
     "output_type": "stream",
     "text": [
      "Enter valid module name!!\n"
     ]
    }
   ],
   "source": [
    "# import math\n",
    "# text = input(\"enter dir module name: \")\n",
    "# if text.lower() == \"Math\":\n",
    "#     print(dir(math))\n",
    "# else:\n",
    "#     print(\"somenthing went wrong!\")\n",
    "try:\n",
    "    module_name = input(\"Enter module name to explore: \")\n",
    "    module = __import__(module_name)\n",
    "    print(dir(module))\n",
    "except ModuleNotFoundError:\n",
    "    print(\"Enter valid module name!!\")\n"
   ]
  },
  {
   "cell_type": "code",
   "execution_count": 6,
   "id": "00ab842f",
   "metadata": {},
   "outputs": [
    {
     "name": "stdout",
     "output_type": "stream",
     "text": [
      "[[0 1 0 1 0 1 0 1]\n",
      " [1 0 1 0 1 0 1 0]\n",
      " [0 1 0 1 0 1 0 1]\n",
      " [1 0 1 0 1 0 1 0]\n",
      " [0 1 0 1 0 1 0 1]\n",
      " [1 0 1 0 1 0 1 0]\n",
      " [0 1 0 1 0 1 0 1]\n",
      " [1 0 1 0 1 0 1 0]]\n"
     ]
    }
   ],
   "source": [
    "import numpy as np\n",
    "Z = np.zeros((8,8),dtype=int)\n",
    "Z[1::2,::2] = 1\n",
    "Z[::2,1::2] = 1\n",
    "print(Z)\n"
   ]
  },
  {
   "cell_type": "code",
   "execution_count": 7,
   "id": "094abe6b",
   "metadata": {},
   "outputs": [
    {
     "data": {
      "text/plain": [
       "(np.int64(1), np.int64(5), np.int64(4))"
      ]
     },
     "execution_count": 7,
     "metadata": {},
     "output_type": "execute_result"
    }
   ],
   "source": [
    "n = np.unravel_index(100,(6,7,8))\n",
    "n\n"
   ]
  },
  {
   "cell_type": "code",
   "execution_count": 8,
   "id": "feb31a2c",
   "metadata": {},
   "outputs": [
    {
     "name": "stdout",
     "output_type": "stream",
     "text": [
      "9\n",
      "10\n"
     ]
    }
   ],
   "source": [
    "print(sum(range(5),-1))\n",
    "from numpy import *\n",
    "print(sum(range(5),-1))"
   ]
  },
  {
   "cell_type": "code",
   "execution_count": null,
   "id": "d6dbe2cf",
   "metadata": {},
   "outputs": [
    {
     "name": "stdout",
     "output_type": "stream",
     "text": [
      "1. add\n",
      "2. split\n",
      "3. search\n",
      "4. exit\n"
     ]
    },
    {
     "name": "stdout",
     "output_type": "stream",
     "text": [
      "Original array: \n",
      "[[1 2 3 4]\n",
      " [5 4 3 5]\n",
      " [6 7 6 5]\n",
      " [4 5 6 7]\n",
      " [8 9 1 2]]\n",
      "==============================\n",
      "yess we found it\n",
      "2\n",
      "==============================\n",
      "1. add\n",
      "2. split\n",
      "3. search\n",
      "4. exit\n"
     ]
    }
   ],
   "source": [
    "import numpy as np\n",
    "def arr1():\n",
    "    x = int(input(\"enter row: \"))\n",
    "    y = int(input(\"enteer columns: \"))\n",
    "    sure = x*y\n",
    "\n",
    "    elements = input(f\"Enter {sure} numbers: \").split()\n",
    "    elements = [int(i) for i in elements]\n",
    "\n",
    "    if len(elements)!=sure:\n",
    "        print(\"enter in proper format in\",{sure})\n",
    "    else:\n",
    "        arr = np.array(elements).reshape(x,y)\n",
    "        print(\"Original array: \")\n",
    "        print(arr)\n",
    "    return arr\n",
    "\n",
    "def arr2():\n",
    "    a = int(input(\"enter row: \"))\n",
    "    b = int(input(\"enteer columns: \"))\n",
    "    suree = a*b\n",
    "\n",
    "    elementss = input(f\"Enter {suree} numbers: \").split()\n",
    "    elementss = [int(j) for j in elementss]\n",
    "\n",
    "    if len(elementss)!=suree:\n",
    "        print(\"enter in proper format in\",{suree})\n",
    "    else:\n",
    "        arrr = np.array(elementss).reshape(a,b)\n",
    "        print(\"Second array: \")\n",
    "        print(arrr)\n",
    "    return arrr\n",
    "\n",
    "\n",
    "\n",
    "\n",
    "while True:\n",
    "    print(\"1. add\")\n",
    "    print(\"2. split\")\n",
    "    print(\"3. search\")\n",
    "    print(\"4. exit\")\n",
    "    g = input(\"enter a choice\")\n",
    "    match g:\n",
    "        case '1':\n",
    "            j = arr1()+arr2()\n",
    "            print(\"your addition: \")\n",
    "            print(j)\n",
    "\n",
    "        case '2':\n",
    "            v = np.concatenate([arr1(),arr2()])\n",
    "            print(v)\n",
    "        case '3':    \n",
    "            a = arr1()\n",
    "            search = int(input(\"Enter a value to search: \"))\n",
    "            # search = (int(x) for x in search).split()\n",
    "            if search in a:\n",
    "                print(\"=\"*30)\n",
    "                print(\"yess we found it\")\n",
    "                print(search)\n",
    "                print(\"=\"*30)\n",
    "            else:\n",
    "                print(\"Not found!\")\n",
    "                print(\"=\"*30)\n",
    "\n",
    "        case '4':\n",
    "            a = arr1()\n",
    "            print\n",
    "\n",
    "        case '5':\n",
    "            break\n"
   ]
  },
  {
   "cell_type": "code",
   "execution_count": 5,
   "id": "f2c2eac0",
   "metadata": {},
   "outputs": [
    {
     "name": "stdout",
     "output_type": "stream",
     "text": [
      "2D array is:\n",
      "[[[1 2]\n",
      "  [3 4]]\n",
      "\n",
      " [[5 6]\n",
      "  [7 8]]]\n"
     ]
    },
    {
     "ename": "TypeError",
     "evalue": "vsplit() missing 1 required positional argument: 'indices_or_sections'",
     "output_type": "error",
     "traceback": [
      "\u001b[31m---------------------------------------------------------------------------\u001b[39m",
      "\u001b[31mTypeError\u001b[39m                                 Traceback (most recent call last)",
      "\u001b[36mCell\u001b[39m\u001b[36m \u001b[39m\u001b[32mIn[5]\u001b[39m\u001b[32m, line 12\u001b[39m\n\u001b[32m      9\u001b[39m \u001b[38;5;28mprint\u001b[39m(\u001b[33m\"\u001b[39m\u001b[33m2D array is:\u001b[39m\u001b[33m\"\u001b[39m)\n\u001b[32m     10\u001b[39m \u001b[38;5;28mprint\u001b[39m(arr)\n\u001b[32m---> \u001b[39m\u001b[32m12\u001b[39m v = \u001b[43mnp\u001b[49m\u001b[43m.\u001b[49m\u001b[43mvsplit\u001b[49m\u001b[43m(\u001b[49m\u001b[43marr\u001b[49m\u001b[43m)\u001b[49m\n\u001b[32m     13\u001b[39m \u001b[38;5;28mprint\u001b[39m(v)\n",
      "\u001b[31mTypeError\u001b[39m: vsplit() missing 1 required positional argument: 'indices_or_sections'"
     ]
    }
   ],
   "source": [
    "x = int(input(\"enter row: \"))\n",
    "y = int(input(\"enteer columns: \"))\n",
    "z = int(input(\"enter number of box in the array: \"))\n",
    "s = x*y*z\n",
    "elements = input(f\"enter {s} elements of 3d array: \").split()\n",
    "elements = [int(i) for i in elements]\n",
    "\n",
    "arr = np.array(elements).reshape(x,y,z)\n",
    "print(\"2D array is:\")\n",
    "print(arr)\n",
    "\n",
    "v = np.vsplit(arr)\n",
    "print(v)\n"
   ]
  },
  {
   "cell_type": "code",
   "execution_count": 24,
   "id": "8f974573",
   "metadata": {},
   "outputs": [
    {
     "name": "stdout",
     "output_type": "stream",
     "text": [
      "[2, 7, 6, 5, 8, 9, 3, 2, 1] \n",
      "\n",
      "[[2 2 1]\n",
      " [3 7 6]\n",
      " [5 8 9]]\n"
     ]
    }
   ],
   "source": [
    "r = int(input(\"enter row: \"))\n",
    "c = int(input(\"enter col: \"))\n",
    "d = r*c\n",
    "elements = input(f\"Enter total elements {d}\").split()\n",
    "elements = [int(x) for x in elements]\n",
    "i = np.array(elements).reshape(r,c)\n",
    "d = np.sort(i,axis=0)\n",
    "print(elements,\"\\n\")\n",
    "print(d)"
   ]
  },
  {
   "cell_type": "code",
   "execution_count": 34,
   "id": "afa0138f",
   "metadata": {},
   "outputs": [
    {
     "name": "stdout",
     "output_type": "stream",
     "text": [
      "Your array: [1 2 3 4 5]\n"
     ]
    }
   ],
   "source": [
    "# a = int(input(\"enter arrya size: \"))\n",
    "# for i in a:\n",
    "#     i-=a\n",
    "#     print(i)\n",
    "# elements = input(f\"Enter exactly {a} numbers separated by space:{i} \").split()\n",
    "\n",
    "# elements = [int(x) for x in elements if x.strip() != '']\n",
    "# g = np.array(elements)\n",
    "# print(g)\n",
    "\n",
    "import numpy as np\n",
    "\n",
    "a = int(input(\"Enter array size: \"))\n",
    "\n",
    "while True:\n",
    "    elements = input(f\"Enter exactly {a} numbers separated by space: \").split()\n",
    "    elements = [x for x in elements if x.strip() != '']\n",
    "    count = len(elements)\n",
    "    if count < a:\n",
    "        print(f\"You entered {count} numbers. {a - count} more needed. Try again.\")\n",
    "    elif count > a:\n",
    "        print(f\"You entered {count} numbers. Remove {count - a} numbers. Try again.\")\n",
    "    else:\n",
    "        elements = [int(x) for x in elements]\n",
    "        g = np.array(elements)\n",
    "        print(\"Your array:\", g)\n",
    "        break"
   ]
  }
 ],
 "metadata": {
  "kernelspec": {
   "display_name": "Python 3",
   "language": "python",
   "name": "python3"
  },
  "language_info": {
   "codemirror_mode": {
    "name": "ipython",
    "version": 3
   },
   "file_extension": ".py",
   "mimetype": "text/x-python",
   "name": "python",
   "nbconvert_exporter": "python",
   "pygments_lexer": "ipython3",
   "version": "3.12.1"
  }
 },
 "nbformat": 4,
 "nbformat_minor": 5
}
