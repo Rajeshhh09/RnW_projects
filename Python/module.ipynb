{
 "cells": [
  {
   "cell_type": "code",
   "execution_count": 2,
   "id": "10d8e641",
   "metadata": {},
   "outputs": [],
   "source": [
    "def add(a,b):\n",
    "    return a+b\n",
    "def multiply(a,b):\n",
    "    return a*b\n"
   ]
  },
  {
   "cell_type": "code",
   "execution_count": 5,
   "id": "16a127fe",
   "metadata": {},
   "outputs": [
    {
     "data": {
      "text/plain": [
       "2420"
      ]
     },
     "execution_count": 5,
     "metadata": {},
     "output_type": "execute_result"
    }
   ],
   "source": [
    "add(1,2)\n",
    "multiply(44,55)"
   ]
  },
  {
   "cell_type": "code",
   "execution_count": 169,
   "id": "5843c603",
   "metadata": {},
   "outputs": [
    {
     "name": "stdout",
     "output_type": "stream",
     "text": [
      "945430792.7809383\n",
      "3.141592653589793\n",
      "0.48339730526137537\n",
      "15.507483831322187\n",
      "78\n",
      "sanjay\n",
      "[15, 9, 14, 17, 27, 28]\n",
      "0.4725257894135406\n",
      "['BPF', 'LOG4', 'NV_MAGICCONST', 'RECIP_BPF', 'Random', 'SG_MAGICCONST', 'SystemRandom', 'TWOPI', '_ONE', '_Sequence', '__all__', '__builtins__', '__cached__', '__doc__', '__file__', '__loader__', '__name__', '__package__', '__spec__', '_accumulate', '_acos', '_bisect', '_ceil', '_cos', '_e', '_exp', '_fabs', '_floor', '_index', '_inst', '_isfinite', '_lgamma', '_log', '_log2', '_os', '_pi', '_random', '_repeat', '_sha512', '_sin', '_sqrt', '_test', '_test_generator', '_urandom', '_warn', 'betavariate', 'binomialvariate', 'choice', 'choices', 'expovariate', 'gammavariate', 'gauss', 'getrandbits', 'getstate', 'lognormvariate', 'normalvariate', 'paretovariate', 'randbytes', 'randint', 'random', 'randrange', 'sample', 'seed', 'setstate', 'shuffle', 'triangular', 'uniform', 'vonmisesvariate', 'weibullvariate']\n"
     ]
    }
   ],
   "source": [
    "import math\n",
    "import random\n",
    "\n",
    "print(math.sqrt(893839383938393333))\n",
    "print(math.pi)\n",
    "\n",
    "print(random.random())\n",
    "print(random.uniform(1,22))\n",
    "print(random.randint(1,99))\n",
    "\n",
    "name = [\"rajesh\",\"jay\",\"sanjay\",\"jitu\",\"shani\"]\n",
    "\n",
    "print(random.choice(name))\n",
    "\n",
    "lottery = random.sample(range(1,30),6)\n",
    "print(lottery)\n",
    "print(random.random())\n",
    "print(dir(random))\n"
   ]
  },
  {
   "cell_type": "code",
   "execution_count": null,
   "id": "0f3bf477",
   "metadata": {},
   "outputs": [],
   "source": []
  }
 ],
 "metadata": {
  "kernelspec": {
   "display_name": "Python 3",
   "language": "python",
   "name": "python3"
  },
  "language_info": {
   "codemirror_mode": {
    "name": "ipython",
    "version": 3
   },
   "file_extension": ".py",
   "mimetype": "text/x-python",
   "name": "python",
   "nbconvert_exporter": "python",
   "pygments_lexer": "ipython3",
   "version": "3.12.1"
  }
 },
 "nbformat": 4,
 "nbformat_minor": 5
}
