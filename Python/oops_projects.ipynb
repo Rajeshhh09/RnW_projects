{
 "cells": [
  {
   "cell_type": "code",
   "execution_count": 1,
   "id": "c4d89631",
   "metadata": {},
   "outputs": [
    {
     "name": "stdout",
     "output_type": "stream",
     "text": [
      "student name is rajesh\n",
      "student age is 21\n",
      "student roll number is 34\n"
     ]
    }
   ],
   "source": [
    "class student:\n",
    "    def __init__(self,name,age,roll_number):\n",
    "        self.name = name\n",
    "        self.age = age\n",
    "        self.roll_number = roll_number\n",
    "\n",
    "    def display(self):\n",
    "        print(f\"student name is {self.name}\")\n",
    "        print(f\"student age is {self.age}\")\n",
    "        print(f\"student roll number is {self.roll_number}\")\n",
    "\n",
    "s1 = student(\"rajesh\",21,34)\n",
    "s1.display()"
   ]
  },
  {
   "cell_type": "code",
   "execution_count": 9,
   "id": "be48a049",
   "metadata": {},
   "outputs": [
    {
     "name": "stdout",
     "output_type": "stream",
     "text": [
      "Deposited ₹2000. Current balance: ₹32000\n",
      "Account holder: rajesh, Account number: 12345678\n",
      "withdraw 3000 current balance 29000 \n",
      "account holder name : rajesh\n",
      "account number: 12345678\n"
     ]
    }
   ],
   "source": [
    "\n",
    "class bank_account:\n",
    "    def __init__(self,ac_no,name,balance=0):\n",
    "        self.ac_no = ac_no\n",
    "        self.name = name\n",
    "        self.balance = balance\n",
    "\n",
    "    def deposit(self,amount):\n",
    "        self.balance += amount\n",
    "        print(f\"Deposited ₹{amount}. Current balance: ₹{self.balance}\")\n",
    "        print(f\"Account holder: {self.name}, Account number: {self.ac_no}\")\n",
    "\n",
    "    def withdrawl(self,amount):\n",
    "        \n",
    "        self.balance -= amount\n",
    "        if(self.balance >= amount):\n",
    "            print(f\"withdraw {amount} current balance {self.balance} \")\n",
    "        else:\n",
    "            print(f\"insufficent balance!!\")\n",
    "        \n",
    "        print(f\"account holder name : {self.name}\")\n",
    "        print(f\"account number: {self.ac_no}\")\n",
    "\n",
    "c1 = bank_account(12345678,\"rajesh\",30000)\n",
    "c1.deposit(2000)\n",
    "c1.withdrawl(3000)\n",
    "\n",
    "\n"
   ]
  },
  {
   "cell_type": "code",
   "execution_count": 17,
   "id": "413ccfca",
   "metadata": {},
   "outputs": [
    {
     "ename": "TypeError",
     "evalue": "library.__init__() takes 3 positional arguments but 4 were given",
     "output_type": "error",
     "traceback": [
      "\u001b[31m---------------------------------------------------------------------------\u001b[39m",
      "\u001b[31mTypeError\u001b[39m                                 Traceback (most recent call last)",
      "\u001b[36mCell\u001b[39m\u001b[36m \u001b[39m\u001b[32mIn[17]\u001b[39m\u001b[32m, line 34\u001b[39m\n\u001b[32m     32\u001b[39m b1 = library(\u001b[32m1\u001b[39m,\u001b[33m\"\u001b[39m\u001b[33mrich dad poor dad\u001b[39m\u001b[33m\"\u001b[39m)\n\u001b[32m     33\u001b[39m b1 = book(\u001b[32m20\u001b[39m-\u001b[32m2\u001b[39m-\u001b[32m2004\u001b[39m,\u001b[32m1\u001b[39m,\u001b[33m\"\u001b[39m\u001b[33mrich dad poor dad\u001b[39m\u001b[33m\"\u001b[39m)\n\u001b[32m---> \u001b[39m\u001b[32m34\u001b[39m b1 = \u001b[43mmember\u001b[49m\u001b[43m(\u001b[49m\u001b[33;43m\"\u001b[39;49m\u001b[33;43mrajesh mali\u001b[39;49m\u001b[33;43m\"\u001b[39;49m\u001b[43m,\u001b[49m\u001b[32;43m1\u001b[39;49m\u001b[43m,\u001b[49m\u001b[33;43m\"\u001b[39;49m\u001b[33;43mrich dad poor dad\u001b[39;49m\u001b[33;43m\"\u001b[39;49m\u001b[43m,\u001b[49m\u001b[32;43m20\u001b[39;49m\u001b[43m-\u001b[49m\u001b[32;43m2\u001b[39;49m\u001b[43m-\u001b[49m\u001b[32;43m2004\u001b[39;49m\u001b[43m)\u001b[49m\n\u001b[32m     35\u001b[39m b1.display()\n",
      "\u001b[36mCell\u001b[39m\u001b[36m \u001b[39m\u001b[32mIn[17]\u001b[39m\u001b[32m, line 25\u001b[39m, in \u001b[36mmember.__init__\u001b[39m\u001b[34m(self, book_id, book_name, issue_date, member_details)\u001b[39m\n\u001b[32m     24\u001b[39m \u001b[38;5;28;01mdef\u001b[39;00m\u001b[38;5;250m \u001b[39m\u001b[34m__init__\u001b[39m(\u001b[38;5;28mself\u001b[39m, book_id, book_name, issue_date,member_details):\n\u001b[32m---> \u001b[39m\u001b[32m25\u001b[39m     \u001b[38;5;28;43msuper\u001b[39;49m\u001b[43m(\u001b[49m\u001b[43m)\u001b[49m\u001b[43m.\u001b[49m\u001b[34;43m__init__\u001b[39;49m\u001b[43m(\u001b[49m\u001b[43mbook_id\u001b[49m\u001b[43m,\u001b[49m\u001b[43m \u001b[49m\u001b[43mbook_name\u001b[49m\u001b[43m,\u001b[49m\u001b[43m \u001b[49m\u001b[43missue_date\u001b[49m\u001b[43m)\u001b[49m\n\u001b[32m     26\u001b[39m     \u001b[38;5;28mself\u001b[39m.member_details = member_details\n",
      "\u001b[31mTypeError\u001b[39m: library.__init__() takes 3 positional arguments but 4 were given"
     ]
    }
   ],
   "source": [
    "class library:\n",
    "    def __init__(self,book_id,book_name,):\n",
    "        self.__book_id = book_id\n",
    "        self.book_name = book_name\n",
    "        \n",
    "    def display(self):\n",
    "        print(f\"book ID {self.__book_id}\")\n",
    "        print(f\"your book name {self.book_name}\")\n",
    "        \n",
    "    def getter_book_id(self):\n",
    "        return self.__book_id\n",
    "    \n",
    "class book (library):\n",
    "    def __init__(self, book_id, book_name,issue_date):\n",
    "        super().__init__(book_id, book_name)\n",
    "        self.issue_date = issue_date \n",
    "\n",
    "    def display(self):\n",
    "        super().display()\n",
    "        print(f\"book issue date {self.issue_date}\")\n",
    "\n",
    "\n",
    "class member(library):\n",
    "    def __init__(self, book_id, book_name, issue_date,member_details):\n",
    "        super().__init__(book_id, book_name, issue_date)\n",
    "        self.member_details = member_details\n",
    "\n",
    "    def display(self):\n",
    "        super().display()\n",
    "        print(f\"book member detail {self.member_details}\")\n",
    "\n",
    "b1 = library(1,\"rich dad poor dad\")\n",
    "b1 = book(20-2-2004,1,\"rich dad poor dad\")\n",
    "b1 = member(\"rajesh mali\",1,\"rich dad poor dad\",20-2-2004)\n",
    "b1.display()\n",
    "\n"
   ]
  }
 ],
 "metadata": {
  "kernelspec": {
   "display_name": "Python 3",
   "language": "python",
   "name": "python3"
  },
  "language_info": {
   "codemirror_mode": {
    "name": "ipython",
    "version": 3
   },
   "file_extension": ".py",
   "mimetype": "text/x-python",
   "name": "python",
   "nbconvert_exporter": "python",
   "pygments_lexer": "ipython3",
   "version": "3.12.1"
  }
 },
 "nbformat": 4,
 "nbformat_minor": 5
}
