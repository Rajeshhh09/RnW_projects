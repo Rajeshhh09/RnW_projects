{
 "cells": [
  {
   "cell_type": "code",
   "execution_count": 4,
   "id": "f094e170",
   "metadata": {},
   "outputs": [
    {
     "name": "stdout",
     "output_type": "stream",
     "text": [
      "even\n"
     ]
    }
   ],
   "source": [
    "a = int(input(\"enter a number: \"))\n",
    "\n",
    "if a%2==0:\n",
    "    print(\"even\")\n",
    "else:\n",
    "    print(\"odd\")"
   ]
  },
  {
   "cell_type": "code",
   "execution_count": 13,
   "id": "7f346d55",
   "metadata": {},
   "outputs": [
    {
     "name": "stdout",
     "output_type": "stream",
     "text": [
      "senior\n"
     ]
    }
   ],
   "source": [
    "age = int(input(\"enter age: \"))\n",
    "if age<=59:\n",
    "    if age<=12:\n",
    "        print(\"child\")\n",
    "    else:\n",
    "         if age<=19:\n",
    "            print(\"teen\")\n",
    "         else:\n",
    "             print(\"adult\")\n",
    "else:\n",
    "    print(\"senior\")\n",
    "    \n",
    "    "
   ]
  },
  {
   "cell_type": "code",
   "execution_count": 16,
   "id": "07ae3d12",
   "metadata": {},
   "outputs": [
    {
     "name": "stdout",
     "output_type": "stream",
     "text": [
      " 2nd 44 is biggest number\n"
     ]
    }
   ],
   "source": [
    "int1 = int(input(\"enter first number: \"))\n",
    "int2 = int(input(\"enter second number: \"))\n",
    "int3 = int(input(\"enter tird number: \"))\n",
    "\n",
    "if int1>int2:\n",
    "    print(f\" 1st {int1} is biggest number\")\n",
    "elif int2>int3:\n",
    "    print(f\" 2nd {int2} is biggest number\")\n",
    "else:\n",
    "    print(f\"3rd {int3} is biggest nnumber\")"
   ]
  },
  {
   "cell_type": "code",
   "execution_count": 18,
   "id": "7e070650",
   "metadata": {},
   "outputs": [
    {
     "name": "stdout",
     "output_type": "stream",
     "text": [
      "result: 2.0303030303030303\n"
     ]
    }
   ],
   "source": [
    "a = int(input(\"enter a number: \"))\n",
    "b = int(input(\"enter a number: \"))\n",
    "opt = input(\"enter operator (+,-,*,/)\")\n",
    "match opt:\n",
    "    case '+':\n",
    "        print(\"result:\",a+b)\n",
    "    case '-':\n",
    "        print(\"result:\",a-b)\n",
    "    case '*':\n",
    "        print(\"result:\",a*b)\n",
    "    case '/':\n",
    "        print(\"result:\",a/b)\n"
   ]
  },
  {
   "cell_type": "code",
   "execution_count": null,
   "id": "c1b4c5ee",
   "metadata": {},
   "outputs": [
    {
     "name": "stdout",
     "output_type": "stream",
     "text": [
      "1\n",
      "4\n",
      "9\n",
      "16\n",
      "25\n",
      "36\n",
      "49\n",
      "64\n",
      "81\n"
     ]
    }
   ],
   "source": [
    "for i in range(1,10):\n",
    "    i *=i\n",
    "    print(i)"
   ]
  },
  {
   "cell_type": "code",
   "execution_count": 30,
   "id": "35b6f098",
   "metadata": {},
   "outputs": [
    {
     "name": "stdout",
     "output_type": "stream",
     "text": [
      "5 even number:\n",
      "7 even number:\n",
      "9 even number:\n",
      "11 even number:\n",
      "13 even number:\n",
      "15 even number:\n",
      "17 even number:\n",
      "19 even number:\n",
      "21 even number:\n",
      "23 even number:\n",
      "25 even number:\n",
      "27 even number:\n",
      "29 even number:\n",
      "31 even number:\n",
      "33 even number:\n",
      "35 even number:\n",
      "37 even number:\n",
      "39 even number:\n",
      "41 even number:\n",
      "43 even number:\n",
      "45 even number:\n",
      "47 even number:\n",
      "49 even number:\n"
     ]
    }
   ],
   "source": [
    "i = 5\n",
    "while i<=50:\n",
    "    print(i,\"even number:\" )\n",
    "    i += 2\n",
    "    "
   ]
  },
  {
   "cell_type": "code",
   "execution_count": 48,
   "id": "719878c7",
   "metadata": {},
   "outputs": [
    {
     "name": "stdout",
     "output_type": "stream",
     "text": [
      "odd 1\n",
      "odd 3\n",
      "odd 5\n",
      "odd 7\n",
      "odd 9\n",
      "odd 11\n",
      "odd 13\n",
      "odd 15\n",
      "odd 17\n",
      "odd 19\n"
     ]
    }
   ],
   "source": [
    "for i in range(1,20,2):\n",
    "    print(\"odd\",i)"
   ]
  },
  {
   "cell_type": "code",
   "execution_count": 65,
   "id": "e098f80a",
   "metadata": {},
   "outputs": [
    {
     "name": "stdout",
     "output_type": "stream",
     "text": [
      " 5 * 0 = 0\n",
      " 5 * 5 = 25\n",
      " 5 * 10 = 50\n",
      " 5 * 15 = 75\n",
      " 5 * 20 = 100\n",
      " 5 * 25 = 125\n",
      " 5 * 30 = 150\n",
      " 5 * 35 = 175\n",
      " 5 * 40 = 200\n",
      " 5 * 45 = 225\n"
     ]
    }
   ],
   "source": [
    "for i in range(0,50,5):\n",
    "    print(f\" 5 * {i} = {i*5}\")\n"
   ]
  },
  {
   "cell_type": "code",
   "execution_count": 82,
   "id": "3eb84754",
   "metadata": {},
   "outputs": [
    {
     "name": "stdout",
     "output_type": "stream",
     "text": [
      "-10\n",
      "-9\n",
      "-8\n",
      "-7\n",
      "-6\n",
      "-5\n",
      "-4\n",
      "-3\n",
      "-2\n",
      "-1\n"
     ]
    }
   ],
   "source": [
    "for i in range(0,10):\n",
    "    i-=10\n",
    "    print(i)"
   ]
  },
  {
   "cell_type": "code",
   "execution_count": 90,
   "id": "cc67f0e1",
   "metadata": {},
   "outputs": [
    {
     "name": "stdout",
     "output_type": "stream",
     "text": [
      "2 is divisible by 2\n",
      "\n",
      "3 is divisible by 3\n",
      "\n",
      "4 is divisible by 2\n",
      "\n",
      "5 is not divisible by both \n",
      "6 is divisible by both\n",
      "7 is not divisible by both \n",
      "8 is divisible by 2\n",
      "\n",
      "9 is divisible by 3\n",
      "\n",
      "10 is divisible by 2\n",
      "\n",
      "11 is not divisible by both \n",
      "12 is divisible by both\n",
      "13 is not divisible by both \n",
      "14 is divisible by 2\n",
      "\n",
      "15 is divisible by 3\n",
      "\n",
      "16 is divisible by 2\n",
      "\n",
      "17 is not divisible by both \n",
      "18 is divisible by both\n",
      "19 is not divisible by both \n",
      "20 is divisible by 2\n",
      "\n",
      "21 is divisible by 3\n",
      "\n",
      "22 is divisible by 2\n",
      "\n",
      "23 is not divisible by both \n",
      "24 is divisible by both\n",
      "25 is not divisible by both \n",
      "26 is divisible by 2\n",
      "\n",
      "27 is divisible by 3\n",
      "\n",
      "28 is divisible by 2\n",
      "\n",
      "29 is not divisible by both \n",
      "30 is divisible by both\n",
      "31 is not divisible by both \n",
      "32 is divisible by 2\n",
      "\n",
      "33 is divisible by 3\n",
      "\n",
      "34 is divisible by 2\n",
      "\n",
      "35 is not divisible by both \n",
      "36 is divisible by both\n",
      "37 is not divisible by both \n",
      "38 is divisible by 2\n",
      "\n",
      "39 is divisible by 3\n",
      "\n",
      "40 is divisible by 2\n",
      "\n",
      "41 is not divisible by both \n",
      "42 is divisible by both\n",
      "43 is not divisible by both \n",
      "44 is divisible by 2\n",
      "\n",
      "45 is divisible by 3\n",
      "\n",
      "46 is divisible by 2\n",
      "\n",
      "47 is not divisible by both \n",
      "48 is divisible by both\n",
      "49 is not divisible by both \n"
     ]
    }
   ],
   "source": [
    "for i in range(2,50):\n",
    "    if i%2==0 and i%3==0:\n",
    "        print(f\"{i} is divisible by both\")\n",
    "    elif i%2==0:\n",
    "        print(f\"{i} is divisible by 2\\n\")\n",
    "    elif i%3==0:\n",
    "        print(f\"{i} is divisible by 3\\n\")\n",
    "    else:\n",
    "        print(f\"{i} is not divisible by both \")\n"
   ]
  }
 ],
 "metadata": {
  "kernelspec": {
   "display_name": "Python 3",
   "language": "python",
   "name": "python3"
  },
  "language_info": {
   "codemirror_mode": {
    "name": "ipython",
    "version": 3
   },
   "file_extension": ".py",
   "mimetype": "text/x-python",
   "name": "python",
   "nbconvert_exporter": "python",
   "pygments_lexer": "ipython3",
   "version": "3.12.1"
  }
 },
 "nbformat": 4,
 "nbformat_minor": 5
}
