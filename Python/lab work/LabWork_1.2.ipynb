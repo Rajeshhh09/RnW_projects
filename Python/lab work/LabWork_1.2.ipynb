{
 "cells": [
  {
   "cell_type": "code",
   "execution_count": null,
   "id": "3907b407",
   "metadata": {},
   "outputs": [
    {
     "name": "stdout",
     "output_type": "stream",
     "text": [
      "Different Formatting Options\n",
      "Hello World\n",
      "Hello-World\n"
     ]
    }
   ],
   "source": [
    "print(\"Different Formatting Options\")\n",
    "#sep\n",
    "print(\"Hello\", \"World\")\n",
    "\n",
    "print(\"Hello\", \"World\", sep=\"-\")\n",
    "\n",
    "#end\n",
    "print(\"hello\",end=\" \")\n",
    "print(\"world\")\n",
    "\n",
    "\n"
   ]
  },
  {
   "cell_type": "code",
   "execution_count": 2,
   "id": "cb17ed48",
   "metadata": {},
   "outputs": [
    {
     "name": "stdout",
     "output_type": "stream",
     "text": [
      "Hello, rajesh! At 21, enjoying gaming sound fun! \n"
     ]
    }
   ],
   "source": [
    "name = input(\"Enter your name: \")\n",
    "age = input(\"Enter your age\")\n",
    "hobby = input(\"Enter your hobby: \")\n",
    "\n",
    "print(f\"Hello, {name}! At {age}, enjoying {hobby} sound fun! \")"
   ]
  },
  {
   "cell_type": "code",
   "execution_count": 3,
   "id": "8c938eba",
   "metadata": {},
   "outputs": [
    {
     "name": "stdout",
     "output_type": "stream",
     "text": [
      "29\n",
      "1.9\n",
      "190\n",
      "9\n",
      "1\n",
      "9\n",
      "6131066257801\n"
     ]
    }
   ],
   "source": [
    "a = int(input(\"enter a number: \"))\n",
    "b = int(input(\"enter 2nd number: \"))\n",
    "\n",
    "add = a+b\n",
    "print(add)\n",
    "\n",
    "div = a/b\n",
    "print(div)\n",
    "\n",
    "multi = a*b\n",
    "print(multi)\n",
    "\n",
    "subtract = a-b\n",
    "print(subtract)\n",
    "\n",
    "floordiv = a//b\n",
    "print(floordiv)\n",
    "\n",
    "mod = a%b\n",
    "print(mod)\n",
    "\n",
    "expo = a**b \n",
    "print(expo)"
   ]
  },
  {
   "cell_type": "code",
   "execution_count": 12,
   "id": "4e322217",
   "metadata": {},
   "outputs": [
    {
     "name": "stdout",
     "output_type": "stream",
     "text": [
      "21 rajesh True (3+4j)\n",
      "<class 'int'>\n",
      "<class 'str'>\n",
      "<class 'bool'>\n",
      "<class 'float'>\n",
      "<class 'complex'>\n"
     ]
    }
   ],
   "source": [
    "a = 21\n",
    "b = 'rajesh'\n",
    "c = True\n",
    "d = 2.4\n",
    "e = 3 + 4j\n",
    "\n",
    "print(a,b,c,e)\n",
    "\n",
    "print(type(a))\n",
    "print(type(b))\n",
    "print(type(c))\n",
    "print(type(d))\n",
    "print(type(e))"
   ]
  },
  {
   "cell_type": "code",
   "execution_count": 13,
   "id": "b67cb09e",
   "metadata": {},
   "outputs": [
    {
     "name": "stdout",
     "output_type": "stream",
     "text": [
      "name: rajesh height: 21\n"
     ]
    }
   ],
   "source": [
    "r = input(\"name: \")\n",
    "height = int(input(\"height: \"))\n",
    "\n",
    "print(f\"name: {r} height: {height}\")"
   ]
  },
  {
   "cell_type": "code",
   "execution_count": null,
   "id": "c1b425ab",
   "metadata": {},
   "outputs": [],
   "source": []
  }
 ],
 "metadata": {
  "kernelspec": {
   "display_name": "Python 3",
   "language": "python",
   "name": "python3"
  },
  "language_info": {
   "codemirror_mode": {
    "name": "ipython",
    "version": 3
   },
   "file_extension": ".py",
   "mimetype": "text/x-python",
   "name": "python",
   "nbconvert_exporter": "python",
   "pygments_lexer": "ipython3",
   "version": "3.12.1"
  }
 },
 "nbformat": 4,
 "nbformat_minor": 5
}
