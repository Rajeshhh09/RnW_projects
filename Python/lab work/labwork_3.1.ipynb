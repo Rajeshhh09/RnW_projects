{
 "cells": [
  {
   "cell_type": "code",
   "execution_count": 1,
   "id": "65af1732",
   "metadata": {},
   "outputs": [
    {
     "name": "stdout",
     "output_type": "stream",
     "text": [
      "Hello, ['mali'], ['rajesh']\n"
     ]
    }
   ],
   "source": [
    "first_name = str(input(\"Enter your first name: \"))\n",
    "last_name = str(input(\"Enter your last name: \"))\n",
    "print(f\"Hello, {[last_name]}, {[first_name]}\")"
   ]
  },
  {
   "cell_type": "code",
   "execution_count": 2,
   "id": "f845dff0",
   "metadata": {},
   "outputs": [
    {
     "name": "stdout",
     "output_type": "stream",
     "text": [
      "The price of apple is 5.5 dollar!\n"
     ]
    }
   ],
   "source": [
    "item = \"apple\"\n",
    "price = 5.50\n",
    "print(f\"The price of {item} is {price} dollar!\")"
   ]
  },
  {
   "cell_type": "code",
   "execution_count": 11,
   "id": "31d0442a",
   "metadata": {},
   "outputs": [
    {
     "name": "stdout",
     "output_type": "stream",
     "text": [
      "hsejar\n",
      "it is not palindrome\n"
     ]
    }
   ],
   "source": [
    "user = input(\"enter a word: \")\n",
    "reverse = user[::-1]\n",
    "print(reverse)\n",
    "if reverse == user:\n",
    "    print(\"it is palindrome\")\n",
    "else:\n",
    "    print(\"it is not palindrome\")\n",
    "    "
   ]
  },
  {
   "cell_type": "code",
   "execution_count": 12,
   "id": "c00e5cd0",
   "metadata": {},
   "outputs": [
    {
     "name": "stdout",
     "output_type": "stream",
     "text": [
      "mera name rajesh hai\n",
      "MERA NAME RAJESH HAI\n",
      "Mera Name Rajesh Hai\n"
     ]
    }
   ],
   "source": [
    "user = input(\"enter string: \")\n",
    "print(user.lower())\n",
    "print(user.upper())\n",
    "print(user.title())"
   ]
  },
  {
   "cell_type": "code",
   "execution_count": 13,
   "id": "fb6d9bf2",
   "metadata": {},
   "outputs": [
    {
     "name": "stdout",
     "output_type": "stream",
     "text": [
      "[1, 2, 3, 4, 5, 6, 7, 8, 9, 10]\n"
     ]
    }
   ],
   "source": [
    "l1 = [1,2,3,4,5,6,7,8,9]\n",
    "l1.append(10)\n",
    "print(l1)"
   ]
  },
  {
   "cell_type": "code",
   "execution_count": 18,
   "id": "cf8717c4",
   "metadata": {},
   "outputs": [
    {
     "name": "stdout",
     "output_type": "stream",
     "text": [
      "['1', '2', '3', '4', '5', '6', '7', '8', '9']\n",
      "['9', '8', '7', '6', '5', '4', '3', '2', '1']\n"
     ]
    }
   ],
   "source": [
    "l1 = list(input(\"Enter some numbers: \"))\n",
    "l1.sort()\n",
    "print(l1)\n",
    "l1.sort(reverse=True)\n",
    "print(l1)"
   ]
  },
  {
   "cell_type": "code",
   "execution_count": 22,
   "id": "5aad5a9e",
   "metadata": {},
   "outputs": [],
   "source": [
    "t1 = tuple(input(\"ENter numbers: \"))\n",
    "for i in t1:\n",
    "    if t1.count ==1:\n",
    "     print(i)\n"
   ]
  }
 ],
 "metadata": {
  "kernelspec": {
   "display_name": "Python 3",
   "language": "python",
   "name": "python3"
  },
  "language_info": {
   "codemirror_mode": {
    "name": "ipython",
    "version": 3
   },
   "file_extension": ".py",
   "mimetype": "text/x-python",
   "name": "python",
   "nbconvert_exporter": "python",
   "pygments_lexer": "ipython3",
   "version": "3.12.1"
  }
 },
 "nbformat": 4,
 "nbformat_minor": 5
}
