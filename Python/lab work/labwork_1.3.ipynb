{
 "cells": [
  {
   "cell_type": "code",
   "execution_count": null,
   "id": "0f26033a",
   "metadata": {},
   "outputs": [
    {
     "name": "stdout",
     "output_type": "stream",
     "text": [
      "<class 'str'>\n"
     ]
    }
   ],
   "source": [
    "#1\n",
    "r = int(\"10\")\n",
    "j = str(21)\n",
    "\n",
    "type(r)\n",
    "print(type(j))"
   ]
  },
  {
   "cell_type": "code",
   "execution_count": null,
   "id": "ee77664d",
   "metadata": {},
   "outputs": [
    {
     "name": "stdout",
     "output_type": "stream",
     "text": [
      "22\n",
      "\n"
     ]
    }
   ],
   "source": [
    "#2\n",
    "r = float(input(\"enter flaot number: \"))\n",
    "\n",
    "print(int(r))\n",
    "\n",
    "print(\"this happend because i converted the float type into integer\")"
   ]
  },
  {
   "cell_type": "code",
   "execution_count": null,
   "id": "1442e1c6",
   "metadata": {},
   "outputs": [
    {
     "name": "stdout",
     "output_type": "stream",
     "text": [
      "True\n",
      "1\n",
      "1\n"
     ]
    }
   ],
   "source": [
    "#3\n",
    "r = bool(True)\n",
    "a = int(r)\n",
    "j = str(a)\n",
    "\n",
    "print(r)\n",
    "print(a)\n",
    "print(j)"
   ]
  },
  {
   "cell_type": "code",
   "execution_count": 13,
   "id": "685582ad",
   "metadata": {},
   "outputs": [
    {
     "name": "stdout",
     "output_type": "stream",
     "text": [
      "<class 'int'>\n",
      "<class 'float'>\n",
      "<class 'str'>\n",
      "<class 'bool'>\n",
      "<class 'complex'>\n"
     ]
    }
   ],
   "source": [
    "#4\n",
    "\n",
    "r = int(21)\n",
    "a = float(22.44)\n",
    "j = str('rajesh')\n",
    "e = bool(True)\n",
    "s = 3+3j\n",
    "\n",
    "print(type(r))\n",
    "print(type(a))\n",
    "print(type(j))\n",
    "print(type(e))\n",
    "print(type(s))\n",
    "\n"
   ]
  },
  {
   "cell_type": "code",
   "execution_count": 22,
   "id": "8e2e2f4e",
   "metadata": {},
   "outputs": [
    {
     "name": "stdout",
     "output_type": "stream",
     "text": [
      "memory address of r: 140720214130104\n",
      "memory address of a: 140720214129720\n"
     ]
    },
    {
     "data": {
      "text/plain": [
       "140720214130104"
      ]
     },
     "execution_count": 22,
     "metadata": {},
     "output_type": "execute_result"
    }
   ],
   "source": [
    "#5\n",
    "\n",
    "r = str(\"rajesh\")\n",
    "a = int(21)\n",
    "r = int(33)\n",
    "\n",
    "print(f\"memory address of r: {id(r)}\\nmemory address of a: {id(a)}\")\n",
    "id(r)\n",
    "\n",
    "\n"
   ]
  }
 ],
 "metadata": {
  "kernelspec": {
   "display_name": "Python 3",
   "language": "python",
   "name": "python3"
  },
  "language_info": {
   "codemirror_mode": {
    "name": "ipython",
    "version": 3
   },
   "file_extension": ".py",
   "mimetype": "text/x-python",
   "name": "python",
   "nbconvert_exporter": "python",
   "pygments_lexer": "ipython3",
   "version": "3.12.1"
  }
 },
 "nbformat": 4,
 "nbformat_minor": 5
}
